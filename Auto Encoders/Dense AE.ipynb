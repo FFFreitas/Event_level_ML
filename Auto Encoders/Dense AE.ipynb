{
 "cells": [
  {
   "cell_type": "markdown",
   "metadata": {},
   "source": [
    "# Dense Auto-Encoders, but first load my stuff."
   ]
  },
  {
   "cell_type": "code",
   "execution_count": 1,
   "metadata": {},
   "outputs": [
    {
     "name": "stderr",
     "output_type": "stream",
     "text": [
      "Using TensorFlow backend.\n"
     ]
    }
   ],
   "source": [
    "from __future__ import division\n",
    "import numpy as np\n",
    "import matplotlib.pylab as plt\n",
    "from sklearn.model_selection import train_test_split\n",
    "from keras.callbacks import TensorBoard, ModelCheckpoint, Callback, EarlyStopping\n",
    "from time import time\n",
    "import glob"
   ]
  },
  {
   "cell_type": "markdown",
   "metadata": {},
   "source": [
    "# And my data"
   ]
  },
  {
   "cell_type": "code",
   "execution_count": 2,
   "metadata": {
    "collapsed": true
   },
   "outputs": [],
   "source": [
    "filelist = glob.glob('ww_plots/224_224_bw/*.npy')\n",
    "x = np.array([np.array(np.load(fname)) for fname in filelist])"
   ]
  },
  {
   "cell_type": "code",
   "execution_count": 3,
   "metadata": {
    "collapsed": true
   },
   "outputs": [],
   "source": [
    "#not forget to normalize\n",
    "x = x.astype('float')/255."
   ]
  },
  {
   "cell_type": "code",
   "execution_count": 4,
   "metadata": {},
   "outputs": [
    {
     "data": {
      "image/png": "[encoded data removed]",
      "text/plain": [
       "<Figure size 1440x288 with 1 Axes>"
      ]
     },
     "metadata": {
      "needs_background": "light"
     },
     "output_type": "display_data"
    }
   ],
   "source": [
    "#Check the data\n",
    "plt.figure(figsize=(20, 4))\n",
    "ax = plt.subplot(111)\n",
    "plt.imshow(x[1].reshape(x.shape[1],x.shape[2],3))\n",
    "plt.gray()\n",
    "ax.get_xaxis().set_visible(False)\n",
    "ax.get_yaxis().set_visible(False)\n",
    "plt.show()"
   ]
  },
  {
   "cell_type": "code",
   "execution_count": 5,
   "metadata": {
    "collapsed": true
   },
   "outputs": [],
   "source": [
    "#Split and Shuffle\n",
    "import random \n",
    "random.shuffle(x)\n",
    "\n",
    "X_train = x[:int(len(x)*0.8)]\n",
    "X_test = x[int(len(x)*0.8):]"
   ]
  },
  {
   "cell_type": "code",
   "execution_count": 6,
   "metadata": {
    "collapsed": true
   },
   "outputs": [],
   "source": [
    "original_dim = X_train.shape[1]*X_train.shape[2]*3"
   ]
  },
  {
   "cell_type": "code",
   "execution_count": 7,
   "metadata": {},
   "outputs": [
    {
     "data": {
      "text/plain": [
       "150528"
      ]
     },
     "execution_count": 7,
     "metadata": {},
     "output_type": "execute_result"
    }
   ],
   "source": [
    "original_dim"
   ]
  },
  {
   "cell_type": "code",
   "execution_count": 8,
   "metadata": {
    "collapsed": true
   },
   "outputs": [],
   "source": [
    "#flatten my data\n",
    "x_train = np.reshape(X_train, [-1, original_dim])\n",
    "x_test = np.reshape(X_test, [-1, original_dim])"
   ]
  },
  {
   "cell_type": "code",
   "execution_count": 9,
   "metadata": {
    "collapsed": true
   },
   "outputs": [],
   "source": [
    "from keras.layers import Input, Dense\n",
    "from keras.models import Model\n",
    "\n",
    "# this is the size of our encoded representations\n",
    "encoding_dim = 32  # 32 floats -> compression of factor 24.5, assuming the input is 784 floats\n",
    "\n",
    "# this is our input placeholder\n",
    "input_img = Input(shape=(original_dim,))\n",
    "# \"encoded\" is the encoded representation of the input\n",
    "encoded = Dense(encoding_dim, activation='relu')(input_img)\n",
    "# \"decoded\" is the lossy reconstruction of the input\n",
    "decoded = Dense(original_dim, activation='sigmoid')(encoded)\n",
    "\n",
    "# this model maps an input to its reconstruction\n",
    "autoencoder = Model(input_img, decoded)\n"
   ]
  },
  {
   "cell_type": "code",
   "execution_count": 10,
   "metadata": {
    "collapsed": true
   },
   "outputs": [],
   "source": [
    "# this model maps an input to its encoded representation\n",
    "encoder = Model(input_img, encoded)\n"
   ]
  },
  {
   "cell_type": "code",
   "execution_count": 11,
   "metadata": {
    "collapsed": true
   },
   "outputs": [],
   "source": [
    "# create a placeholder for an encoded (32-dimensional) input\n",
    "encoded_input = Input(shape=(encoding_dim,))\n",
    "# retrieve the last layer of the autoencoder model\n",
    "decoder_layer = autoencoder.layers[-1]\n",
    "# create the decoder model\n",
    "decoder = Model(encoded_input, decoder_layer(encoded_input))"
   ]
  },
  {
   "cell_type": "code",
   "execution_count": 12,
   "metadata": {
    "collapsed": true
   },
   "outputs": [],
   "source": [
    "autoencoder.compile(optimizer='adadelta', loss='binary_crossentropy')"
   ]
  },
  {
   "cell_type": "code",
   "execution_count": 13,
   "metadata": {},
   "outputs": [
    {
     "name": "stdout",
     "output_type": "stream",
     "text": [
      "Train on 7999 samples, validate on 2000 samples\n",
      "Epoch 1/50\n",
      "7999/7999 [==============================] - 9s 1ms/step - loss: 0.6931 - val_loss: 0.6930\n",
      "Epoch 2/50\n",
      "7999/7999 [==============================] - 9s 1ms/step - loss: 0.6930 - val_loss: 0.6929\n",
      "Epoch 3/50\n",
      "7999/7999 [==============================] - 9s 1ms/step - loss: 0.6929 - val_loss: 0.6928\n",
      "Epoch 4/50\n",
      "7999/7999 [==============================] - 9s 1ms/step - loss: 0.6928 - val_loss: 0.6927\n",
      "Epoch 5/50\n",
      "7999/7999 [==============================] - 9s 1ms/step - loss: 0.6927 - val_loss: 0.6926\n",
      "Epoch 6/50\n",
      "7999/7999 [==============================] - 9s 1ms/step - loss: 0.6926 - val_loss: 0.6925\n",
      "Epoch 7/50\n",
      "7999/7999 [==============================] - 9s 1ms/step - loss: 0.6924 - val_loss: 0.6924\n",
      "Epoch 8/50\n",
      "7999/7999 [==============================] - 9s 1ms/step - loss: 0.6923 - val_loss: 0.6922\n",
      "Epoch 9/50\n",
      "7999/7999 [==============================] - 9s 1ms/step - loss: 0.6921 - val_loss: 0.6920\n",
      "Epoch 10/50\n",
      "7999/7999 [==============================] - 9s 1ms/step - loss: 0.6919 - val_loss: 0.6917\n",
      "Epoch 11/50\n",
      "7999/7999 [==============================] - 9s 1ms/step - loss: 0.6915 - val_loss: 0.6913\n",
      "Epoch 12/50\n",
      "7999/7999 [==============================] - 9s 1ms/step - loss: 0.6909 - val_loss: 0.6905\n",
      "Epoch 13/50\n",
      "7999/7999 [==============================] - 9s 1ms/step - loss: 0.6899 - val_loss: 0.6892\n",
      "Epoch 14/50\n",
      "7999/7999 [==============================] - 9s 1ms/step - loss: 0.6882 - val_loss: 0.6868\n",
      "Epoch 15/50\n",
      "7999/7999 [==============================] - 9s 1ms/step - loss: 0.6849 - val_loss: 0.6824\n",
      "Epoch 16/50\n",
      "7999/7999 [==============================] - 9s 1ms/step - loss: 0.6790 - val_loss: 0.6745\n",
      "Epoch 17/50\n",
      "7999/7999 [==============================] - 9s 1ms/step - loss: 0.6684 - val_loss: 0.6605\n",
      "Epoch 18/50\n",
      "7999/7999 [==============================] - 9s 1ms/step - loss: 0.6499 - val_loss: 0.6362\n",
      "Epoch 19/50\n",
      "7999/7999 [==============================] - 8s 1ms/step - loss: 0.6187 - val_loss: 0.5968\n",
      "Epoch 20/50\n",
      "7999/7999 [==============================] - 8s 1ms/step - loss: 0.5707 - val_loss: 0.5391\n",
      "Epoch 21/50\n",
      "7999/7999 [==============================] - 8s 1ms/step - loss: 0.5050 - val_loss: 0.4657\n",
      "Epoch 22/50\n",
      "7999/7999 [==============================] - 8s 1ms/step - loss: 0.4281 - val_loss: 0.3871\n",
      "Epoch 23/50\n",
      "7999/7999 [==============================] - 8s 1ms/step - loss: 0.3520 - val_loss: 0.3151\n",
      "Epoch 24/50\n",
      "7999/7999 [==============================] - 8s 1ms/step - loss: 0.2863 - val_loss: 0.2565\n",
      "Epoch 25/50\n",
      "7999/7999 [==============================] - 8s 1ms/step - loss: 0.2345 - val_loss: 0.2117\n",
      "Epoch 26/50\n",
      "7999/7999 [==============================] - 8s 1ms/step - loss: 0.1956 - val_loss: 0.1785\n",
      "Epoch 27/50\n",
      "7999/7999 [==============================] - 8s 1ms/step - loss: 0.1668 - val_loss: 0.1539\n",
      "Epoch 28/50\n",
      "7999/7999 [==============================] - 8s 1ms/step - loss: 0.1454 - val_loss: 0.1356\n",
      "Epoch 29/50\n",
      "7999/7999 [==============================] - 8s 1ms/step - loss: 0.1293 - val_loss: 0.1218\n",
      "Epoch 30/50\n",
      "7999/7999 [==============================] - 8s 1ms/step - loss: 0.1171 - val_loss: 0.1112\n",
      "Epoch 31/50\n",
      "7999/7999 [==============================] - 8s 1ms/step - loss: 0.1076 - val_loss: 0.1030\n",
      "Epoch 32/50\n",
      "7999/7999 [==============================] - 8s 1ms/step - loss: 0.1001 - val_loss: 0.0965\n",
      "Epoch 33/50\n",
      "7999/7999 [==============================] - 8s 1ms/step - loss: 0.0942 - val_loss: 0.0912\n",
      "Epoch 34/50\n",
      "7999/7999 [==============================] - 9s 1ms/step - loss: 0.0894 - val_loss: 0.0870\n",
      "Epoch 35/50\n",
      "7999/7999 [==============================] - 8s 1ms/step - loss: 0.0855 - val_loss: 0.0835\n",
      "Epoch 36/50\n",
      "7999/7999 [==============================] - 8s 1ms/step - loss: 0.0822 - val_loss: 0.0806\n",
      "Epoch 37/50\n",
      "7999/7999 [==============================] - 9s 1ms/step - loss: 0.0795 - val_loss: 0.0782\n",
      "Epoch 38/50\n",
      "7999/7999 [==============================] - 8s 1ms/step - loss: 0.0772 - val_loss: 0.0762\n",
      "Epoch 39/50\n",
      "7999/7999 [==============================] - 8s 1ms/step - loss: 0.0753 - val_loss: 0.0744\n",
      "Epoch 40/50\n",
      "7999/7999 [==============================] - 8s 1ms/step - loss: 0.0736 - val_loss: 0.0729\n",
      "Epoch 41/50\n",
      "7999/7999 [==============================] - 8s 1ms/step - loss: 0.0722 - val_loss: 0.0716\n",
      "Epoch 42/50\n",
      "7999/7999 [==============================] - 8s 1ms/step - loss: 0.0709 - val_loss: 0.0705\n",
      "Epoch 43/50\n",
      "7999/7999 [==============================] - 8s 1ms/step - loss: 0.0698 - val_loss: 0.0695\n",
      "Epoch 44/50\n",
      "7999/7999 [==============================] - 8s 1ms/step - loss: 0.0689 - val_loss: 0.0687\n",
      "Epoch 45/50\n",
      "7999/7999 [==============================] - 8s 1ms/step - loss: 0.0680 - val_loss: 0.0679\n",
      "Epoch 46/50\n",
      "7999/7999 [==============================] - 9s 1ms/step - loss: 0.0672 - val_loss: 0.0672\n",
      "Epoch 47/50\n",
      "7999/7999 [==============================] - 8s 1ms/step - loss: 0.0666 - val_loss: 0.0666\n",
      "Epoch 48/50\n",
      "7999/7999 [==============================] - 9s 1ms/step - loss: 0.0660 - val_loss: 0.0661\n",
      "Epoch 49/50\n",
      "7999/7999 [==============================] - 9s 1ms/step - loss: 0.0654 - val_loss: 0.0656\n",
      "Epoch 50/50\n",
      "7999/7999 [==============================] - 9s 1ms/step - loss: 0.0649 - val_loss: 0.0651\n"
     ]
    },
    {
     "data": {
      "text/plain": [
       "<keras.callbacks.History at 0x7f8058afc390>"
      ]
     },
     "execution_count": 13,
     "metadata": {},
     "output_type": "execute_result"
    }
   ],
   "source": [
    "autoencoder.fit(x_train, x_train,\n",
    "                epochs=50,\n",
    "                batch_size=128,\n",
    "                shuffle=True,\n",
    "                validation_data=(x_test, x_test))"
   ]
  },
  {
   "cell_type": "code",
   "execution_count": 15,
   "metadata": {
    "collapsed": true
   },
   "outputs": [],
   "source": [
    "decoded_imgs = autoencoder.predict(x_test)"
   ]
  },
  {
   "cell_type": "code",
   "execution_count": 16,
   "metadata": {},
   "outputs": [
    {
     "data": {
      "text/plain": [
       "(2000, 150528)"
      ]
     },
     "execution_count": 16,
     "metadata": {},
     "output_type": "execute_result"
    }
   ],
   "source": [
    "decoded_imgs.shape"
   ]
  },
  {
   "cell_type": "code",
   "execution_count": 18,
   "metadata": {},
   "outputs": [
    {
     "data": {
      "image/png": "[encoded data removed]",
      "text/plain": [
       "<Figure size 1440x288 with 1 Axes>"
      ]
     },
     "metadata": {
      "needs_background": "light"
     },
     "output_type": "display_data"
    }
   ],
   "source": [
    "plt.figure(figsize=(20, 4))\n",
    "ax = plt.subplot(111)\n",
    "plt.imshow(decoded_imgs[1].reshape(224,224,3))\n",
    "plt.gray()\n",
    "ax.get_xaxis().set_visible(False)\n",
    "ax.get_yaxis().set_visible(False)\n",
    "plt.show()"
   ]
  },
  {
   "cell_type": "code",
   "execution_count": 19,
   "metadata": {},
   "outputs": [
    {
     "data": {
      "text/plain": [
       "array([0.00363855, 0.0034631 , 0.00376859, ..., 0.00353269, 0.0037248 ,\n",
       "       0.00384508], dtype=float32)"
      ]
     },
     "execution_count": 19,
     "metadata": {},
     "output_type": "execute_result"
    }
   ],
   "source": [
    "decoded_imgs[0]"
   ]
  },
  {
   "cell_type": "code",
   "execution_count": null,
   "metadata": {
    "collapsed": true
   },
   "outputs": [],
   "source": []
  }
 ],
 "metadata": {
  "kernelspec": {
   "display_name": "Python 2",
   "language": "python",
   "name": "python2"
  },
  "language_info": {
   "codemirror_mode": {
    "name": "ipython",
    "version": 2
   },
   "file_extension": ".py",
   "mimetype": "text/x-python",
   "name": "python",
   "nbconvert_exporter": "python",
   "pygments_lexer": "ipython2",
   "version": "2.7.12"
  }
 },
 "nbformat": 4,
 "nbformat_minor": 2
}

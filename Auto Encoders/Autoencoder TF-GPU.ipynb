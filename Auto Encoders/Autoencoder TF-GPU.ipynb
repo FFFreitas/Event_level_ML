{
 "cells": [
  {
   "cell_type": "markdown",
   "metadata": {},
   "source": [
    "# Load things I'm going to use."
   ]
  },
  {
   "cell_type": "code",
   "execution_count": 1,
   "metadata": {},
   "outputs": [
    {
     "name": "stderr",
     "output_type": "stream",
     "text": [
      "Using TensorFlow backend.\n"
     ]
    }
   ],
   "source": [
    "from __future__ import division\n",
    "import numpy as np\n",
    "import matplotlib.pylab as plt\n",
    "from sklearn.model_selection import train_test_split\n",
    "from keras.callbacks import TensorBoard, ModelCheckpoint, Callback, EarlyStopping\n",
    "from time import time\n",
    "import glob"
   ]
  },
  {
   "cell_type": "markdown",
   "metadata": {},
   "source": [
    "# Load my data"
   ]
  },
  {
   "cell_type": "code",
   "execution_count": 2,
   "metadata": {
    "collapsed": true
   },
   "outputs": [],
   "source": [
    "filelist = glob.glob('ww_plots/224_224_bw/*.npy')\n",
    "x = np.array([np.array(np.load(fname)) for fname in filelist])"
   ]
  },
  {
   "cell_type": "code",
   "execution_count": 3,
   "metadata": {
    "collapsed": true
   },
   "outputs": [],
   "source": [
    "#don't forget to normalize\n",
    "x = x.astype('float')/255."
   ]
  },
  {
   "cell_type": "code",
   "execution_count": 4,
   "metadata": {},
   "outputs": [
    {
     "data": {
      "image/png": "[encoded data removed]",
      "text/plain": [
       "<Figure size 1440x288 with 1 Axes>"
      ]
     },
     "metadata": {
      "needs_background": "light"
     },
     "output_type": "display_data"
    }
   ],
   "source": [
    "#print one entry to check if ts ok\n",
    "plt.figure(figsize=(20, 4))\n",
    "ax = plt.subplot(111)\n",
    "plt.imshow(x[1].reshape(x.shape[1],x.shape[2],3))\n",
    "plt.gray()\n",
    "ax.get_xaxis().set_visible(False)\n",
    "ax.get_yaxis().set_visible(False)\n",
    "plt.show()"
   ]
  },
  {
   "cell_type": "code",
   "execution_count": 5,
   "metadata": {
    "collapsed": true
   },
   "outputs": [],
   "source": [
    "#I'm going to shuffle and divide my train and test set\n",
    "import random \n",
    "random.shuffle(x)\n",
    "\n",
    "X_train = x[:int(len(x)*0.8)]\n",
    "X_test = x[int(len(x)*0.8):]"
   ]
  },
  {
   "cell_type": "code",
   "execution_count": 6,
   "metadata": {
    "collapsed": true
   },
   "outputs": [],
   "source": [
    "#Import the things from Keras\n",
    "from keras.preprocessing.image import ImageDataGenerator\n",
    "from keras import layers, models, optimizers\n",
    "from keras import backend as K\n",
    "from keras.models import Model\n",
    "from keras.layers import Input\n",
    "from keras.layers import Conv2D\n",
    "from keras.layers import MaxPooling2D\n",
    "from keras.layers import UpSampling2D\n",
    "from keras.losses import mean_squared_error\n",
    "from keras.optimizers import Adam"
   ]
  },
  {
   "cell_type": "markdown",
   "metadata": {},
   "source": [
    "# Build Our AE!!!"
   ]
  },
  {
   "cell_type": "code",
   "execution_count": 8,
   "metadata": {},
   "outputs": [
    {
     "name": "stdout",
     "output_type": "stream",
     "text": [
      "_________________________________________________________________\n",
      "Layer (type)                 Output Shape              Param #   \n",
      "=================================================================\n",
      "input_1 (InputLayer)         (None, 224, 224, 3)       0         \n",
      "_________________________________________________________________\n",
      "conv2d_1 (Conv2D)            (None, 224, 224, 16)      448       \n",
      "_________________________________________________________________\n",
      "max_pooling2d_1 (MaxPooling2 (None, 112, 112, 16)      0         \n",
      "_________________________________________________________________\n",
      "conv2d_2 (Conv2D)            (None, 112, 112, 8)       1160      \n",
      "_________________________________________________________________\n",
      "max_pooling2d_2 (MaxPooling2 (None, 56, 56, 8)         0         \n",
      "_________________________________________________________________\n",
      "conv2d_3 (Conv2D)            (None, 56, 56, 8)         584       \n",
      "_________________________________________________________________\n",
      "max_pooling2d_3 (MaxPooling2 (None, 28, 28, 8)         0         \n",
      "_________________________________________________________________\n",
      "conv2d_4 (Conv2D)            (None, 28, 28, 4)         292       \n",
      "_________________________________________________________________\n",
      "max_pooling2d_4 (MaxPooling2 (None, 14, 14, 4)         0         \n",
      "_________________________________________________________________\n",
      "conv2d_5 (Conv2D)            (None, 14, 14, 2)         74        \n",
      "_________________________________________________________________\n",
      "max_pooling2d_5 (MaxPooling2 (None, 7, 7, 2)           0         \n",
      "_________________________________________________________________\n",
      "conv2d_6 (Conv2D)            (None, 7, 7, 2)           38        \n",
      "_________________________________________________________________\n",
      "up_sampling2d_1 (UpSampling2 (None, 14, 14, 2)         0         \n",
      "_________________________________________________________________\n",
      "conv2d_7 (Conv2D)            (None, 14, 14, 4)         76        \n",
      "_________________________________________________________________\n",
      "up_sampling2d_2 (UpSampling2 (None, 28, 28, 4)         0         \n",
      "_________________________________________________________________\n",
      "conv2d_8 (Conv2D)            (None, 28, 28, 8)         296       \n",
      "_________________________________________________________________\n",
      "up_sampling2d_3 (UpSampling2 (None, 56, 56, 8)         0         \n",
      "_________________________________________________________________\n",
      "conv2d_9 (Conv2D)            (None, 56, 56, 8)         584       \n",
      "_________________________________________________________________\n",
      "up_sampling2d_4 (UpSampling2 (None, 112, 112, 8)       0         \n",
      "_________________________________________________________________\n",
      "conv2d_10 (Conv2D)           (None, 112, 112, 16)      1168      \n",
      "_________________________________________________________________\n",
      "up_sampling2d_5 (UpSampling2 (None, 224, 224, 16)      0         \n",
      "_________________________________________________________________\n",
      "conv2d_11 (Conv2D)           (None, 224, 224, 3)       435       \n",
      "=================================================================\n",
      "Total params: 5,155\n",
      "Trainable params: 5,155\n",
      "Non-trainable params: 0\n",
      "_________________________________________________________________\n"
     ]
    }
   ],
   "source": [
    "input_shape = (X_train.shape[1],X_train.shape[2],X_train.shape[3])\n",
    "output_shape = (X_train.shape[1],X_train.shape[2],X_train.shape[3])\n",
    "\n",
    "input_img = Input(input_shape)\n",
    "\n",
    "n_hidden_1 = 16  # 1st hidden layer\n",
    "n_hidden_2 = 8  # 2nd hidden layer\n",
    "n_hidden_3 = 8  # 3rd hidden layer\n",
    "n_hidden_4 = 4  # 3rd hidden layer\n",
    "n_hidden_5 = 2  # 3rd hidden layer\n",
    "\n",
    "convkernel = (3, 3)\n",
    "poolkernel = (2, 2)\n",
    "\n",
    "x = Conv2D(n_hidden_1, convkernel, activation='relu', padding='same')(input_img)\n",
    "x = MaxPooling2D(poolkernel, padding='same')(x)\n",
    "x = Conv2D(n_hidden_2, convkernel, activation='relu', padding='same')(x)\n",
    "x = MaxPooling2D(poolkernel, padding='same')(x)\n",
    "x = Conv2D(n_hidden_3, convkernel, activation='relu', padding='same')(x)\n",
    "x = MaxPooling2D(poolkernel, padding='same')(x)\n",
    "x = Conv2D(n_hidden_4, convkernel, activation='relu', padding='same')(x)\n",
    "x = MaxPooling2D(poolkernel, padding='same')(x)\n",
    "x = Conv2D(n_hidden_5, convkernel, activation='relu', padding='same')(x)\n",
    "encoded = MaxPooling2D(poolkernel, padding='same')(x)\n",
    "\n",
    "x = Conv2D(n_hidden_5, convkernel, activation='relu', padding='same')(encoded)\n",
    "x = UpSampling2D(poolkernel)(x)\n",
    "x = Conv2D(n_hidden_4, convkernel, activation='relu', padding='same')(x)\n",
    "x = UpSampling2D(poolkernel)(x)\n",
    "x = Conv2D(n_hidden_3, convkernel, activation='relu', padding='same')(x)\n",
    "x = UpSampling2D(poolkernel)(x)\n",
    "x = Conv2D(n_hidden_2, convkernel, activation='relu', padding='same')(x)\n",
    "x = UpSampling2D(poolkernel)(x)\n",
    "x = Conv2D(n_hidden_1, convkernel, activation='relu', padding='same')(x)\n",
    "x = UpSampling2D(poolkernel)(x)\n",
    "decoded = Conv2D(3, convkernel, activation='sigmoid', padding='same')(x)\n",
    "\n",
    "autoencoder=Model(input_img ,decoded)\n",
    "\n",
    "autoencoder.summary()"
   ]
  },
  {
   "cell_type": "code",
   "execution_count": 9,
   "metadata": {
    "collapsed": true
   },
   "outputs": [],
   "source": [
    "autoencoder.compile(loss=mean_squared_error,\n",
    "                    optimizer=Adam ())"
   ]
  },
  {
   "cell_type": "code",
   "execution_count": 10,
   "metadata": {},
   "outputs": [
    {
     "name": "stdout",
     "output_type": "stream",
     "text": [
      "Train on 7999 samples, validate on 2000 samples\n",
      "Epoch 1/100\n",
      "7999/7999 [==============================] - 18s 2ms/step - loss: 0.1245 - val_loss: 0.0025\n",
      "Epoch 2/100\n",
      "7999/7999 [==============================] - 15s 2ms/step - loss: 0.0023 - val_loss: 0.0024\n",
      "Epoch 3/100\n",
      "7999/7999 [==============================] - 15s 2ms/step - loss: 0.0023 - val_loss: 0.0024\n",
      "Epoch 4/100\n",
      "7999/7999 [==============================] - 15s 2ms/step - loss: 0.0023 - val_loss: 0.0024\n",
      "Epoch 5/100\n",
      "7999/7999 [==============================] - 15s 2ms/step - loss: 0.0023 - val_loss: 0.0024\n",
      "Epoch 6/100\n",
      "7999/7999 [==============================] - 15s 2ms/step - loss: 0.0023 - val_loss: 0.0024\n",
      "Epoch 7/100\n",
      "7999/7999 [==============================] - 15s 2ms/step - loss: 0.0023 - val_loss: 0.0024\n",
      "Epoch 8/100\n",
      "7999/7999 [==============================] - 15s 2ms/step - loss: 0.0023 - val_loss: 0.0024\n",
      "Epoch 9/100\n",
      "7999/7999 [==============================] - 15s 2ms/step - loss: 0.0023 - val_loss: 0.0024\n",
      "Epoch 10/100\n",
      "7999/7999 [==============================] - 15s 2ms/step - loss: 0.0023 - val_loss: 0.0024\n",
      "Epoch 11/100\n",
      "7999/7999 [==============================] - 15s 2ms/step - loss: 0.0023 - val_loss: 0.0024\n",
      "Epoch 12/100\n",
      "7999/7999 [==============================] - 15s 2ms/step - loss: 0.0023 - val_loss: 0.0024\n",
      "Epoch 13/100\n",
      "7999/7999 [==============================] - 15s 2ms/step - loss: 0.0023 - val_loss: 0.0024\n",
      "Epoch 14/100\n",
      "7999/7999 [==============================] - 15s 2ms/step - loss: 0.0023 - val_loss: 0.0024\n",
      "Epoch 15/100\n",
      "7999/7999 [==============================] - 15s 2ms/step - loss: 0.0023 - val_loss: 0.0024\n",
      "Epoch 16/100\n",
      "7999/7999 [==============================] - 15s 2ms/step - loss: 0.0023 - val_loss: 0.0024\n",
      "Epoch 17/100\n",
      "7999/7999 [==============================] - 15s 2ms/step - loss: 0.0023 - val_loss: 0.0024\n",
      "Epoch 18/100\n",
      "7999/7999 [==============================] - 15s 2ms/step - loss: 0.0023 - val_loss: 0.0024\n",
      "Epoch 19/100\n",
      "7999/7999 [==============================] - 15s 2ms/step - loss: 0.0023 - val_loss: 0.0024\n",
      "Epoch 20/100\n",
      "7999/7999 [==============================] - 15s 2ms/step - loss: 0.0023 - val_loss: 0.0024\n",
      "Epoch 21/100\n",
      "7999/7999 [==============================] - 15s 2ms/step - loss: 0.0023 - val_loss: 0.0024\n",
      "Epoch 22/100\n",
      "7999/7999 [==============================] - 15s 2ms/step - loss: 0.0023 - val_loss: 0.0024\n",
      "Epoch 23/100\n",
      "7999/7999 [==============================] - 15s 2ms/step - loss: 0.0023 - val_loss: 0.0024\n",
      "Epoch 24/100\n",
      "7999/7999 [==============================] - 15s 2ms/step - loss: 0.0023 - val_loss: 0.0024\n",
      "Epoch 25/100\n",
      "7999/7999 [==============================] - 15s 2ms/step - loss: 0.0023 - val_loss: 0.0024\n",
      "Epoch 26/100\n",
      "7999/7999 [==============================] - 15s 2ms/step - loss: 0.0023 - val_loss: 0.0024\n",
      "Epoch 27/100\n",
      "7999/7999 [==============================] - 15s 2ms/step - loss: 0.0023 - val_loss: 0.0024\n",
      "Epoch 28/100\n",
      "7999/7999 [==============================] - 15s 2ms/step - loss: 0.0023 - val_loss: 0.0024\n",
      "Epoch 29/100\n",
      "7999/7999 [==============================] - 15s 2ms/step - loss: 0.0023 - val_loss: 0.0024\n",
      "Epoch 30/100\n",
      "7999/7999 [==============================] - 15s 2ms/step - loss: 0.0023 - val_loss: 0.0024\n",
      "Epoch 31/100\n",
      "7999/7999 [==============================] - 15s 2ms/step - loss: 0.0023 - val_loss: 0.0024\n",
      "Epoch 32/100\n",
      "7999/7999 [==============================] - 15s 2ms/step - loss: 0.0023 - val_loss: 0.0024\n",
      "Epoch 33/100\n",
      "7999/7999 [==============================] - 15s 2ms/step - loss: 0.0023 - val_loss: 0.0024\n",
      "Epoch 34/100\n",
      "7999/7999 [==============================] - 15s 2ms/step - loss: 0.0023 - val_loss: 0.0024\n",
      "Epoch 35/100\n",
      "7999/7999 [==============================] - 15s 2ms/step - loss: 0.0023 - val_loss: 0.0024\n",
      "Epoch 36/100\n",
      "7999/7999 [==============================] - 15s 2ms/step - loss: 0.0023 - val_loss: 0.0024\n",
      "Epoch 37/100\n",
      "7999/7999 [==============================] - 15s 2ms/step - loss: 0.0023 - val_loss: 0.0024\n",
      "Epoch 38/100\n",
      "7999/7999 [==============================] - 15s 2ms/step - loss: 0.0023 - val_loss: 0.0024\n",
      "Epoch 39/100\n",
      "7999/7999 [==============================] - 15s 2ms/step - loss: 0.0023 - val_loss: 0.0024\n",
      "Epoch 40/100\n",
      "7999/7999 [==============================] - 15s 2ms/step - loss: 0.0023 - val_loss: 0.0024\n",
      "Epoch 41/100\n",
      "7999/7999 [==============================] - 15s 2ms/step - loss: 0.0023 - val_loss: 0.0024\n",
      "Epoch 42/100\n",
      "7999/7999 [==============================] - 15s 2ms/step - loss: 0.0023 - val_loss: 0.0024\n",
      "Epoch 43/100\n",
      "7999/7999 [==============================] - 15s 2ms/step - loss: 0.0023 - val_loss: 0.0024\n",
      "Epoch 44/100\n",
      "7999/7999 [==============================] - 15s 2ms/step - loss: 0.0023 - val_loss: 0.0024\n",
      "Epoch 45/100\n",
      "7999/7999 [==============================] - 15s 2ms/step - loss: 0.0023 - val_loss: 0.0024\n",
      "Epoch 46/100\n",
      "7999/7999 [==============================] - 15s 2ms/step - loss: 0.0023 - val_loss: 0.0024\n",
      "Epoch 47/100\n",
      "7999/7999 [==============================] - 15s 2ms/step - loss: 0.0023 - val_loss: 0.0024\n",
      "Epoch 48/100\n",
      "7999/7999 [==============================] - 15s 2ms/step - loss: 0.0023 - val_loss: 0.0024\n",
      "Epoch 49/100\n",
      "7999/7999 [==============================] - 15s 2ms/step - loss: 0.0023 - val_loss: 0.0024\n",
      "Epoch 50/100\n",
      "7999/7999 [==============================] - 15s 2ms/step - loss: 0.0023 - val_loss: 0.0024\n",
      "Epoch 51/100\n",
      "7999/7999 [==============================] - 15s 2ms/step - loss: 0.0023 - val_loss: 0.0024\n",
      "Epoch 52/100\n",
      "7999/7999 [==============================] - 15s 2ms/step - loss: 0.0023 - val_loss: 0.0024\n",
      "Epoch 53/100\n",
      "7999/7999 [==============================] - 15s 2ms/step - loss: 0.0023 - val_loss: 0.0024\n",
      "Epoch 54/100\n",
      "7999/7999 [==============================] - 15s 2ms/step - loss: 0.0023 - val_loss: 0.0024\n",
      "Epoch 55/100\n",
      "7999/7999 [==============================] - 15s 2ms/step - loss: 0.0023 - val_loss: 0.0024\n",
      "Epoch 56/100\n",
      "7999/7999 [==============================] - 15s 2ms/step - loss: 0.0023 - val_loss: 0.0024\n",
      "Epoch 57/100\n",
      "7999/7999 [==============================] - 15s 2ms/step - loss: 0.0023 - val_loss: 0.0024\n",
      "Epoch 58/100\n",
      "7999/7999 [==============================] - 15s 2ms/step - loss: 0.0023 - val_loss: 0.0024\n",
      "Epoch 59/100\n",
      "7999/7999 [==============================] - 15s 2ms/step - loss: 0.0023 - val_loss: 0.0024\n",
      "Epoch 60/100\n",
      "7999/7999 [==============================] - 15s 2ms/step - loss: 0.0023 - val_loss: 0.0024\n",
      "Epoch 61/100\n",
      "7999/7999 [==============================] - 15s 2ms/step - loss: 0.0023 - val_loss: 0.0024\n",
      "Epoch 62/100\n",
      "7999/7999 [==============================] - 15s 2ms/step - loss: 0.0023 - val_loss: 0.0024\n",
      "Epoch 63/100\n",
      "7999/7999 [==============================] - 15s 2ms/step - loss: 0.0023 - val_loss: 0.0024\n",
      "Epoch 64/100\n",
      "7999/7999 [==============================] - 15s 2ms/step - loss: 0.0023 - val_loss: 0.0024\n",
      "Epoch 65/100\n",
      "7999/7999 [==============================] - 15s 2ms/step - loss: 0.0023 - val_loss: 0.0024\n",
      "Epoch 66/100\n",
      "7999/7999 [==============================] - 15s 2ms/step - loss: 0.0023 - val_loss: 0.0024\n",
      "Epoch 67/100\n",
      "7999/7999 [==============================] - 15s 2ms/step - loss: 0.0023 - val_loss: 0.0024\n",
      "Epoch 68/100\n",
      "7999/7999 [==============================] - 15s 2ms/step - loss: 0.0023 - val_loss: 0.0024\n",
      "Epoch 69/100\n",
      "7999/7999 [==============================] - 15s 2ms/step - loss: 0.0023 - val_loss: 0.0024\n",
      "Epoch 70/100\n",
      "7999/7999 [==============================] - 15s 2ms/step - loss: 0.0023 - val_loss: 0.0024\n",
      "Epoch 71/100\n",
      "7999/7999 [==============================] - 15s 2ms/step - loss: 0.0023 - val_loss: 0.0024\n",
      "Epoch 72/100\n",
      "7999/7999 [==============================] - 15s 2ms/step - loss: 0.0023 - val_loss: 0.0024\n",
      "Epoch 73/100\n",
      "7999/7999 [==============================] - 15s 2ms/step - loss: 0.0023 - val_loss: 0.0024\n",
      "Epoch 74/100\n",
      "7999/7999 [==============================] - 15s 2ms/step - loss: 0.0023 - val_loss: 0.0024\n",
      "Epoch 75/100\n",
      "7999/7999 [==============================] - 15s 2ms/step - loss: 0.0023 - val_loss: 0.0024\n",
      "Epoch 76/100\n",
      "7999/7999 [==============================] - 15s 2ms/step - loss: 0.0023 - val_loss: 0.0024\n",
      "Epoch 77/100\n",
      "7999/7999 [==============================] - 15s 2ms/step - loss: 0.0023 - val_loss: 0.0024\n",
      "Epoch 78/100\n",
      "7999/7999 [==============================] - 15s 2ms/step - loss: 0.0023 - val_loss: 0.0024\n",
      "Epoch 79/100\n",
      "7999/7999 [==============================] - 15s 2ms/step - loss: 0.0023 - val_loss: 0.0024\n",
      "Epoch 80/100\n",
      "7999/7999 [==============================] - 15s 2ms/step - loss: 0.0023 - val_loss: 0.0024\n",
      "Epoch 81/100\n",
      "7999/7999 [==============================] - 15s 2ms/step - loss: 0.0023 - val_loss: 0.0024\n",
      "Epoch 82/100\n",
      "7999/7999 [==============================] - 15s 2ms/step - loss: 0.0023 - val_loss: 0.0024\n",
      "Epoch 83/100\n",
      "7999/7999 [==============================] - 15s 2ms/step - loss: 0.0023 - val_loss: 0.0024\n",
      "Epoch 84/100\n",
      "7999/7999 [==============================] - 15s 2ms/step - loss: 0.0023 - val_loss: 0.0024\n",
      "Epoch 85/100\n",
      "7999/7999 [==============================] - 15s 2ms/step - loss: 0.0023 - val_loss: 0.0024\n",
      "Epoch 86/100\n",
      "7999/7999 [==============================] - 15s 2ms/step - loss: 0.0023 - val_loss: 0.0024\n",
      "Epoch 87/100\n",
      "7999/7999 [==============================] - 15s 2ms/step - loss: 0.0023 - val_loss: 0.0024\n",
      "Epoch 88/100\n",
      "7999/7999 [==============================] - 15s 2ms/step - loss: 0.0023 - val_loss: 0.0024\n",
      "Epoch 89/100\n",
      "7999/7999 [==============================] - 15s 2ms/step - loss: 0.0023 - val_loss: 0.0024\n",
      "Epoch 90/100\n",
      "7999/7999 [==============================] - 15s 2ms/step - loss: 0.0023 - val_loss: 0.0024\n",
      "Epoch 91/100\n",
      "7999/7999 [==============================] - 15s 2ms/step - loss: 0.0023 - val_loss: 0.0024\n",
      "Epoch 92/100\n",
      "7999/7999 [==============================] - 15s 2ms/step - loss: 0.0023 - val_loss: 0.0024\n",
      "Epoch 93/100\n",
      "7999/7999 [==============================] - 15s 2ms/step - loss: 0.0023 - val_loss: 0.0024\n",
      "Epoch 94/100\n",
      "7999/7999 [==============================] - 15s 2ms/step - loss: 0.0023 - val_loss: 0.0024\n",
      "Epoch 95/100\n",
      "7999/7999 [==============================] - 15s 2ms/step - loss: 0.0023 - val_loss: 0.0024\n",
      "Epoch 96/100\n",
      "7999/7999 [==============================] - 15s 2ms/step - loss: 0.0023 - val_loss: 0.0024\n",
      "Epoch 97/100\n",
      "7999/7999 [==============================] - 15s 2ms/step - loss: 0.0023 - val_loss: 0.0024\n",
      "Epoch 98/100\n",
      "7999/7999 [==============================] - 15s 2ms/step - loss: 0.0023 - val_loss: 0.0024\n",
      "Epoch 99/100\n",
      "7999/7999 [==============================] - 15s 2ms/step - loss: 0.0023 - val_loss: 0.0024\n",
      "Epoch 100/100\n",
      "7999/7999 [==============================] - 15s 2ms/step - loss: 0.0023 - val_loss: 0.0024\n"
     ]
    },
    {
     "data": {
      "text/plain": [
       "<keras.callbacks.History at 0x7f314602d320>"
      ]
     },
     "execution_count": 10,
     "metadata": {},
     "output_type": "execute_result"
    }
   ],
   "source": [
    "autoencoder.fit(X_train,X_train, epochs=100,\n",
    "                batch_size=128,\n",
    "                shuffle=True,\n",
    "                validation_data=(X_test, X_test))"
   ]
  },
  {
   "cell_type": "markdown",
   "metadata": {},
   "source": [
    "# Check the Images generated by the AE."
   ]
  },
  {
   "cell_type": "code",
   "execution_count": 11,
   "metadata": {
    "collapsed": true
   },
   "outputs": [],
   "source": [
    "decoded_imgs = autoencoder.predict(X_test)"
   ]
  },
  {
   "cell_type": "code",
   "execution_count": 12,
   "metadata": {},
   "outputs": [
    {
     "data": {
      "image/png": "[encoded data removed]",
      "text/plain": [
       "<Figure size 1440x288 with 1 Axes>"
      ]
     },
     "metadata": {
      "needs_background": "light"
     },
     "output_type": "display_data"
    }
   ],
   "source": [
    "plt.figure(figsize=(20, 4))\n",
    "ax = plt.subplot(111)\n",
    "plt.imshow(X_test[1].reshape(X_train.shape[1],X_train.shape[2],3))\n",
    "plt.gray()\n",
    "ax.get_xaxis().set_visible(False)\n",
    "ax.get_yaxis().set_visible(False)\n",
    "plt.show()"
   ]
  },
  {
   "cell_type": "code",
   "execution_count": 13,
   "metadata": {},
   "outputs": [
    {
     "data": {
      "text/plain": [
       "(2000, 224, 224, 3)"
      ]
     },
     "execution_count": 13,
     "metadata": {},
     "output_type": "execute_result"
    }
   ],
   "source": [
    "decoded_imgs.shape"
   ]
  },
  {
   "cell_type": "code",
   "execution_count": 14,
   "metadata": {},
   "outputs": [
    {
     "data": {
      "image/png": "[encoded data removed]",
      "text/plain": [
       "<Figure size 1440x288 with 1 Axes>"
      ]
     },
     "metadata": {
      "needs_background": "light"
     },
     "output_type": "display_data"
    }
   ],
   "source": [
    "plt.figure(figsize=(20, 4))\n",
    "ax = plt.subplot(111)\n",
    "plt.imshow(decoded_imgs[100].reshape(decoded_imgs.shape[1],decoded_imgs.shape[2],3))\n",
    "plt.gray()\n",
    "ax.get_xaxis().set_visible(False)\n",
    "ax.get_yaxis().set_visible(False)\n",
    "plt.show()"
   ]
  },
  {
   "cell_type": "code",
   "execution_count": 15,
   "metadata": {},
   "outputs": [
    {
     "data": {
      "text/plain": [
       "array([[[6.74178591e-04, 1.92584135e-04, 5.21696988e-04],\n",
       "        [2.15211571e-06, 2.13129780e-07, 3.66032168e-07],\n",
       "        [8.94756198e-08, 4.67175898e-09, 2.47190002e-08],\n",
       "        ...,\n",
       "        [1.60753672e-07, 3.51211185e-08, 5.24332258e-08],\n",
       "        [3.27422422e-05, 1.93041851e-05, 4.21480263e-06],\n",
       "        [9.60991997e-03, 9.72701516e-03, 9.66723450e-03]],\n",
       "\n",
       "       [[2.03053105e-06, 6.97948792e-07, 5.05721891e-06],\n",
       "        [1.86098137e-10, 1.48149722e-11, 3.31387522e-11],\n",
       "        [7.14959342e-13, 2.10629955e-14, 2.02349734e-13],\n",
       "        ...,\n",
       "        [4.54922801e-11, 6.33117126e-12, 1.37872472e-12],\n",
       "        [2.57635065e-07, 9.20670686e-08, 2.93589464e-09],\n",
       "        [1.24963082e-03, 9.64545761e-04, 5.65447612e-04]],\n",
       "\n",
       "       [[1.73029576e-07, 4.79077436e-08, 2.89914510e-07],\n",
       "        [1.77080724e-12, 1.19275615e-13, 1.23399365e-13],\n",
       "        [2.00585745e-15, 4.49351376e-17, 3.24234154e-16],\n",
       "        ...,\n",
       "        [1.02800288e-12, 1.27897936e-13, 6.82303199e-14],\n",
       "        [1.92562801e-08, 6.39421449e-09, 3.42793183e-10],\n",
       "        [3.67550121e-04, 3.24871042e-04, 2.38525783e-04]],\n",
       "\n",
       "       ...,\n",
       "\n",
       "       [[2.07340327e-05, 2.03563304e-05, 4.77758658e-05],\n",
       "        [2.21436451e-08, 1.75134911e-08, 2.68333333e-09],\n",
       "        [1.70143483e-10, 1.61282598e-10, 4.48633353e-11],\n",
       "        ...,\n",
       "        [6.76069964e-35, 4.61717513e-34, 1.82224168e-37],\n",
       "        [1.82900421e-29, 1.22458197e-28, 9.75605136e-33],\n",
       "        [8.19072110e-20, 3.07114144e-19, 2.28287793e-20]],\n",
       "\n",
       "       [[1.33205060e-04, 1.49213054e-04, 4.12843598e-04],\n",
       "        [6.86636156e-07, 6.25006976e-07, 1.96975847e-07],\n",
       "        [1.44282302e-08, 1.66324359e-08, 6.57413946e-09],\n",
       "        ...,\n",
       "        [3.60040162e-27, 1.09060544e-26, 3.47806171e-30],\n",
       "        [7.40349999e-23, 1.84617787e-22, 3.08802313e-26],\n",
       "        [5.91297565e-15, 4.29602914e-15, 8.95720269e-17]],\n",
       "\n",
       "       [[1.02319475e-02, 1.40909208e-02, 1.31195048e-02],\n",
       "        [6.41133112e-04, 1.27440819e-03, 3.53667449e-04],\n",
       "        [7.40198229e-05, 1.79506897e-04, 6.72645692e-05],\n",
       "        ...,\n",
       "        [3.02235755e-15, 1.68464364e-13, 7.09390602e-15],\n",
       "        [7.76291195e-13, 4.17980928e-11, 7.01124000e-13],\n",
       "        [3.18879279e-09, 3.77265685e-08, 3.40662822e-08]]], dtype=float32)"
      ]
     },
     "execution_count": 15,
     "metadata": {},
     "output_type": "execute_result"
    }
   ],
   "source": [
    "decoded_imgs[100]"
   ]
  },
  {
   "cell_type": "code",
   "execution_count": 16,
   "metadata": {},
   "outputs": [
    {
     "name": "stdout",
     "output_type": "stream",
     "text": [
      "{0.0: 148549, 1.1983551e-38: 1, 1.2055354e-38: 1, 1.2159828e-38: 1, 1.2245478e-38: 1, 1.2281781e-38: 1, 1.2563542e-38: 1, 1.272658e-38: 1, 1.2767037e-38: 1, 1.3400682e-38: 1, 1.3716795e-38: 1, 1.3975068e-38: 1, 1.403105e-38: 1, 1.4616054e-38: 1, 1.4835126e-38: 1, 1.5043361e-38: 1, 1.5091643e-38: 1, 1.5498524e-38: 1, 1.5541032e-38: 1, 1.558758e-38: 1, 1.5695699e-38: 1, 1.584332e-38: 1, 1.5865455e-38: 1, 1.657227e-38: 1, 1.6623556e-38: 1, 1.796448e-38: 1, 1.8503509e-38: 1, 1.8578056e-38: 1, 1.8955895e-38: 1, 1.9231798e-38: 1, 1.925338e-38: 1, 1.951276e-38: 1, 1.9720941e-38: 1, 2.0041131e-38: 1, 2.0756017e-38: 1, 2.0952349e-38: 1, 2.1228464e-38: 1, 2.1596677e-38: 1, 2.1660207e-38: 1, 2.1677897e-38: 1, 2.1750457e-38: 1, 2.1794146e-38: 1, 2.184292e-38: 1, 2.2513775e-38: 1, 2.39828e-38: 1, 2.4147122e-38: 1, 2.4176062e-38: 1, 2.5594694e-38: 1, 2.5800752e-38: 1, 2.67476e-38: 1, 2.7284102e-38: 1, 2.7494317e-38: 1, 2.8394578e-38: 1, 3.1135658e-38: 1, 3.1422022e-38: 1, 3.1712715e-38: 1, 3.1779807e-38: 1, 3.2700665e-38: 1, 3.3386614e-38: 1, 3.359819e-38: 1, 3.3979456e-38: 1, 3.4724798e-38: 1, 3.7168817e-38: 1, 3.8323232e-38: 1, 4.158266e-38: 1, 4.3626157e-38: 1, 4.4116166e-38: 1, 4.5542265e-38: 1, 4.7086986e-38: 1, 4.719704e-38: 1, 4.865847e-38: 1, 4.883736e-38: 1, 5.052428e-38: 1, 5.0533154e-38: 1, 5.084989e-38: 1, 5.1306615e-38: 1, 5.242883e-38: 1, 5.253013e-38: 1, 5.334271e-38: 1, 5.4341284e-38: 1, 5.4759134e-38: 1, 6.1055146e-38: 1, 6.333733e-38: 1, 6.687867e-38: 1, 6.7406296e-38: 1, 6.8499135e-38: 1, 7.041089e-38: 1, 7.0437215e-38: 1, 7.351969e-38: 1, 7.4921134e-38: 1, 7.642097e-38: 1, 7.9482815e-38: 1, 8.015146e-38: 1, 8.107336e-38: 1, 8.767458e-38: 1, 9.010639e-38: 1, 9.0703006e-38: 1, 9.621239e-38: 1, 1.0008093e-37: 1, 1.008628e-37: 1, 1.0311219e-37: 1, 1.0676342e-37: 1, 1.0735888e-37: 1, 1.0748673e-37: 1, 1.1639834e-37: 1, 1.1665616e-37: 1, 1.1691188e-37: 1, 1.1816821e-37: 1, 1.200575e-37: 1, 1.2139672e-37: 1, 1.2400184e-37: 1, 1.2451472e-37: 1, 1.2476006e-37: 1, 1.2535734e-37: 1, 1.306188e-37: 1, 1.3062976e-37: 1, 1.326464e-37: 1, 1.3512233e-37: 1, 1.3800411e-37: 1, 1.3849456e-37: 1, 1.489405e-37: 1, 1.5023353e-37: 1, 1.5549045e-37: 1, 1.570511e-37: 1, 1.5866977e-37: 1, 1.6319147e-37: 1, 1.6513528e-37: 1, 1.6645712e-37: 1, 1.673523e-37: 1, 1.7198623e-37: 1, 1.7423539e-37: 1, 1.7428326e-37: 1, 1.7494402e-37: 1, 1.7528203e-37: 1, 1.8144173e-37: 1, 1.8533682e-37: 1, 1.9093431e-37: 1, 1.9174745e-37: 1, 1.9335899e-37: 1, 1.9704931e-37: 1, 2.0100938e-37: 1, 2.1002374e-37: 1, 2.1262433e-37: 1, 2.2410363e-37: 1, 2.2712967e-37: 1, 2.3167477e-37: 1, 2.331874e-37: 1, 2.5827254e-37: 1, 2.6148846e-37: 1, 2.6813508e-37: 1, 3.0235922e-37: 1, 3.0854864e-37: 1, 3.163021e-37: 1, 3.1938664e-37: 1, 3.1974994e-37: 1, 3.3112033e-37: 1, 3.3579627e-37: 1, 3.3931676e-37: 1, 3.6070234e-37: 1, 3.6116495e-37: 1, 3.6650562e-37: 1, 3.6757252e-37: 1, 3.788357e-37: 1, 3.8295927e-37: 1, 4.216169e-37: 1, 4.321227e-37: 1, 4.3674303e-37: 1, 4.3776716e-37: 1, 4.4118378e-37: 1, 4.598098e-37: 1, 4.832645e-37: 1, 4.9297276e-37: 1, 5.030411e-37: 1, 5.0401302e-37: 1, 5.311511e-37: 1, 5.4106134e-37: 1, 5.510428e-37: 1, 5.638781e-37: 1, 5.874644e-37: 1, 5.9675656e-37: 1, 6.4944076e-37: 1, 6.5682047e-37: 1, 6.730997e-37: 1, 6.8155377e-37: 1, 7.1819654e-37: 1, 7.3734585e-37: 1, 7.4476354e-37: 1, 7.459407e-37: 1, 7.4878596e-37: 1, 7.860392e-37: 1, 7.96252e-37: 1, 8.052139e-37: 1, 8.456615e-37: 1, 8.467332e-37: 1, 8.905156e-37: 1, 9.270571e-37: 1, 9.423246e-37: 1, 9.54393e-37: 1, 9.985179e-37: 1, 9.994402e-37: 1, 1.0039644e-36: 1, 1.0220334e-36: 1, 1.0303401e-36: 1, 1.0352174e-36: 1, 1.0517765e-36: 1, 1.0585871e-36: 1, 1.0705507e-36: 1, 1.0852215e-36: 1, 1.0899677e-36: 1, 1.1212002e-36: 1, 1.1434971e-36: 1, 1.1957901e-36: 1, 1.2464739e-36: 1, 1.2757703e-36: 1, 1.311576e-36: 1, 1.3314583e-36: 1, 1.441507e-36: 1, 1.4514724e-36: 1, 1.4897978e-36: 1, 1.4933256e-36: 1, 1.50316735e-36: 1, 1.5049689e-36: 1, 1.5131087e-36: 1, 1.5134203e-36: 1, 1.5298588e-36: 1, 1.53299e-36: 1, 1.5622717e-36: 1, 1.6594428e-36: 1, 1.6971114e-36: 1, 1.7262718e-36: 1, 1.8088827e-36: 1, 1.8553002e-36: 1, 1.9471733e-36: 1, 1.9505782e-36: 1, 2.1171228e-36: 1, 2.1329949e-36: 1, 2.25752e-36: 1, 2.2826504e-36: 1, 2.351052e-36: 1, 2.4930012e-36: 1, 2.5386825e-36: 1, 2.5709801e-36: 1, 2.7097634e-36: 1, 2.7314954e-36: 1, 2.7360422e-36: 1, 2.7659714e-36: 1, 2.7781744e-36: 1, 2.8256516e-36: 1, 2.9101919e-36: 1, 3.0618618e-36: 1, 3.097741e-36: 1, 3.164e-36: 1, 3.2024935e-36: 1, 3.250147e-36: 1, 3.2934803e-36: 1, 3.4476426e-36: 1, 3.661997e-36: 1, 3.9256636e-36: 1, 4.0002513e-36: 1, 4.1689114e-36: 1, 4.2244945e-36: 1, 4.2412552e-36: 1, 5.0736012e-36: 1, 5.190472e-36: 1, 5.277643e-36: 1, 5.3396095e-36: 1, 5.4063036e-36: 1, 5.4414777e-36: 1, 5.447376e-36: 1, 5.466402e-36: 1, 5.6439703e-36: 1, 5.6495705e-36: 1, 5.71621e-36: 1, 5.798171e-36: 1, 5.804323e-36: 1, 5.9004525e-36: 1, 6.00321e-36: 1, 6.0748076e-36: 1, 6.194292e-36: 1, 6.282101e-36: 1, 6.41799e-36: 1, 6.554066e-36: 1, 6.744597e-36: 1, 6.785475e-36: 1, 7.0170175e-36: 1, 7.0517945e-36: 1, 7.735551e-36: 1, 7.973009e-36: 1, 8.416745e-36: 1, 8.682066e-36: 1, 8.748424e-36: 1, 8.802521e-36: 1, 8.887549e-36: 1, 9.2965345e-36: 1, 9.352522e-36: 1, 9.396723e-36: 1, 9.415956e-36: 1, 9.4871276e-36: 1, 9.659052e-36: 1, 9.70359e-36: 1, 9.762701e-36: 1, 1.0028894e-35: 1, 1.0335647e-35: 1, 1.1025683e-35: 1, 1.1094791e-35: 1, 1.11259e-35: 1, 1.146271e-35: 1, 1.14933594e-35: 1, 1.2204877e-35: 1, 1.2667365e-35: 1, 1.2810719e-35: 1, 1.3407196e-35: 1, 1.3844083e-35: 1, 1.4959776e-35: 1, 1.5114999e-35: 1, 1.5701291e-35: 1, 1.5741353e-35: 1, 1.6351815e-35: 1, 1.7180148e-35: 1, 1.7464415e-35: 1, 1.7920496e-35: 1, 1.7999835e-35: 1, 1.8147793e-35: 1, 1.8320573e-35: 1, 1.856781e-35: 1, 1.8931138e-35: 1, 1.9210785e-35: 1, 1.9773023e-35: 1, 1.9914882e-35: 1, 2.03348e-35: 1, 2.1096182e-35: 1, 2.1649585e-35: 1, 2.265605e-35: 1, 2.2953037e-35: 1, 2.3395213e-35: 1, 2.3719982e-35: 1, 2.4518347e-35: 1, 2.4728564e-35: 1, 2.4739696e-35: 1, 2.477048e-35: 1, 2.5566922e-35: 1, 2.5726982e-35: 1, 2.6381523e-35: 1, 2.639924e-35: 1, 2.664855e-35: 1, 2.7026515e-35: 1, 2.7485443e-35: 1, 2.7507472e-35: 1, 2.884298e-35: 1, 2.887733e-35: 1, 2.9323803e-35: 1, 2.9473635e-35: 1, 3.1895596e-35: 1, 3.2631307e-35: 1, 3.2717558e-35: 1, 3.369309e-35: 1, 3.457826e-35: 1, 3.5680518e-35: 1, 3.5700665e-35: 1, 3.602984e-35: 1, 3.6688364e-35: 1, 3.688286e-35: 1, 3.697386e-35: 1, 3.953905e-35: 1, 4.0286295e-35: 1, 4.1523282e-35: 1, 4.4053508e-35: 1, 4.517948e-35: 1, 4.623324e-35: 1, 4.790142e-35: 1, 4.819395e-35: 1, 4.914786e-35: 1, 4.9744654e-35: 1, 5.3272623e-35: 1, 5.4361063e-35: 1, 5.546539e-35: 1, 5.73165e-35: 1, 5.794524e-35: 1, 6.0788217e-35: 1, 6.652738e-35: 1, 6.747148e-35: 1, 6.852459e-35: 1, 6.8707295e-35: 1, 7.295073e-35: 1, 7.2974104e-35: 1, 7.46978e-35: 1, 7.55057e-35: 1, 7.597549e-35: 1, 8.086994e-35: 1, 8.291539e-35: 1, 8.337911e-35: 1, 8.3384834e-35: 1, 8.4108113e-35: 1, 9.1585916e-35: 1, 9.421458e-35: 1, 9.475161e-35: 1, 9.478849e-35: 1, 9.556836e-35: 1, 9.86088e-35: 1, 1.0436085e-34: 1, 1.0507109e-34: 1, 1.1092893e-34: 1, 1.1126543e-34: 1, 1.134383e-34: 1, 1.2044162e-34: 1, 1.222366e-34: 1, 1.2714573e-34: 1, 1.3253987e-34: 1, 1.3454595e-34: 1, 1.402348e-34: 1, 1.5495718e-34: 1, 1.5563607e-34: 1, 1.5764015e-34: 1, 1.629746e-34: 1, 1.6431174e-34: 1, 1.6489571e-34: 1, 1.6611927e-34: 1, 1.6721151e-34: 1, 1.6835722e-34: 1, 1.7533916e-34: 1, 1.7766198e-34: 1, 1.8359689e-34: 1, 1.8789773e-34: 1, 1.8841882e-34: 1, 1.9099215e-34: 1, 1.9354007e-34: 1, 1.9648142e-34: 1, 1.9883085e-34: 1, 1.9969893e-34: 1, 2.056831e-34: 1, 2.0905607e-34: 1, 2.1568893e-34: 1, 2.2388096e-34: 1, 2.2679494e-34: 1, 2.3033835e-34: 1, 2.3191654e-34: 1, 2.3577368e-34: 1, 2.444281e-34: 1, 2.477021e-34: 1, 2.5274568e-34: 1, 2.6013876e-34: 1, 2.6150585e-34: 1, 2.7076785e-34: 1, 2.74198e-34: 1, 2.8355238e-34: 1, 2.9694503e-34: 1, 3.0707076e-34: 1, 3.12004e-34: 1, 3.1637625e-34: 1, 3.3442766e-34: 1, 3.4039724e-34: 1, 3.442232e-34: 1, 3.4893505e-34: 1, 3.629984e-34: 1, 3.6848701e-34: 1, 3.7214007e-34: 1, 3.7405578e-34: 1, 3.8102038e-34: 1, 3.852412e-34: 1, 4.207869e-34: 1, 4.2745566e-34: 1, 4.337501e-34: 1, 4.494349e-34: 1, 4.6156254e-34: 1, 4.633867e-34: 1, 4.814417e-34: 1, 4.905517e-34: 1, 4.912146e-34: 1, 4.9659553e-34: 1, 5.11738e-34: 1, 5.69619e-34: 1, 5.703321e-34: 1, 5.998043e-34: 1, 6.267315e-34: 1, 6.3491793e-34: 1, 6.4640407e-34: 1, 6.5332553e-34: 1, 6.660028e-34: 1, 6.703256e-34: 1, 7.024363e-34: 1, 7.339766e-34: 1, 7.3903376e-34: 1, 7.4636595e-34: 1, 7.752043e-34: 1, 7.903913e-34: 1, 8.531054e-34: 1, 9.161497e-34: 1, 9.414313e-34: 1, 9.6086405e-34: 1, 9.97016e-34: 1, 1.0079684e-33: 1, 1.0199745e-33: 1, 1.0374369e-33: 1, 1.04550975e-33: 1, 1.0490653e-33: 1, 1.054691e-33: 1, 1.0636768e-33: 1, 1.0778998e-33: 1, 1.094632e-33: 1, 1.1014849e-33: 1, 1.1317082e-33: 1, 1.1427443e-33: 1, 1.1505918e-33: 1, 1.1526038e-33: 1, 1.15881115e-33: 1, 1.1729003e-33: 1, 1.1795949e-33: 1, 1.2001286e-33: 1, 1.2339998e-33: 1, 1.2570525e-33: 1, 1.2602406e-33: 1, 1.3000663e-33: 1, 1.3205998e-33: 1, 1.3775508e-33: 1, 1.389489e-33: 1, 1.5053444e-33: 1, 1.5746895e-33: 1, 1.5803221e-33: 1, 1.6507893e-33: 1, 1.6706561e-33: 1, 1.6710003e-33: 1, 1.693318e-33: 1, 1.746017e-33: 1, 1.7488167e-33: 1, 1.877409e-33: 1, 2.0023681e-33: 1, 2.0038658e-33: 1, 2.0592266e-33: 1, 2.0637877e-33: 1, 2.1339992e-33: 1, 2.1471953e-33: 1, 2.1726216e-33: 1, 2.2098346e-33: 1, 2.3429353e-33: 1, 2.4079574e-33: 1, 2.4611142e-33: 1, 2.4666785e-33: 1, 2.5115513e-33: 1, 2.5759414e-33: 1, 2.5993554e-33: 1, 2.711308e-33: 1, 2.7117632e-33: 1, 2.7171892e-33: 1, 2.7664506e-33: 1, 2.7894463e-33: 1, 2.9026238e-33: 1, 3.106302e-33: 1, 3.2315214e-33: 1, 3.253688e-33: 1, 3.283187e-33: 1, 3.2955087e-33: 1, 3.340721e-33: 1, 3.433565e-33: 1, 3.4393855e-33: 1, 3.5535756e-33: 1, 3.8010447e-33: 1, 3.873235e-33: 1, 3.9478203e-33: 1, 4.0022567e-33: 1, 4.053823e-33: 1, 4.134945e-33: 1, 4.276467e-33: 1, 4.4783154e-33: 1, 4.5004077e-33: 1, 4.520504e-33: 1, 4.5378854e-33: 1, 4.5800055e-33: 1, 4.634736e-33: 1, 4.6683792e-33: 1, 5.0188437e-33: 1, 5.0824232e-33: 1, 5.2723592e-33: 1, 5.2960645e-33: 1, 5.488161e-33: 1, 5.8759554e-33: 1, 6.011308e-33: 1, 6.161379e-33: 1, 7.1843364e-33: 1, 7.224682e-33: 1, 7.293133e-33: 1, 8.550769e-33: 1, 9.0412024e-33: 1, 9.2021665e-33: 1, 9.8415e-33: 1, 1.02127155e-32: 1, 1.0998352e-32: 1, 1.1281872e-32: 1, 1.19334085e-32: 1, 1.22308556e-32: 1, 1.2275822e-32: 1, 1.2473516e-32: 1, 1.2506583e-32: 1, 1.2570196e-32: 1, 1.2588238e-32: 1, 1.2605731e-32: 1, 1.3160494e-32: 1, 1.3600336e-32: 1, 1.360345e-32: 1, 1.4361749e-32: 1, 1.4435901e-32: 1, 1.5344676e-32: 1, 1.6019e-32: 1, 1.6542257e-32: 1, 1.661283e-32: 1, 1.6762552e-32: 1, 1.6993563e-32: 1, 1.7261435e-32: 1, 1.7452654e-32: 1, 1.7883032e-32: 1, 1.7984693e-32: 1, 1.8761716e-32: 1, 1.8881331e-32: 1, 1.9538888e-32: 1, 2.041668e-32: 1, 2.0558761e-32: 1, 2.1047103e-32: 1, 2.2460317e-32: 1, 2.272195e-32: 1, 2.2985756e-32: 1, 2.3153313e-32: 1, 2.31846e-32: 1, 2.3878983e-32: 1, 2.4502582e-32: 1, 2.4791223e-32: 1, 2.4838172e-32: 1, 2.502859e-32: 1, 2.5083454e-32: 1, 2.5425643e-32: 1, 2.5631316e-32: 1, 2.6172967e-32: 1, 2.6714646e-32: 1, 2.7606432e-32: 1, 2.8296703e-32: 1, 2.8297132e-32: 1, 2.8386655e-32: 1, 2.8592924e-32: 1, 2.866063e-32: 1, 2.8793667e-32: 1, 2.9031014e-32: 1, 2.9592312e-32: 1, 3.1277416e-32: 1, 3.24349e-32: 1, 3.4019765e-32: 1, 3.5940807e-32: 1, 3.6473662e-32: 1, 3.6842553e-32: 1, 3.7845094e-32: 1, 3.8999984e-32: 1, 4.1293826e-32: 1, 4.1563758e-32: 1, 4.24557e-32: 1, 4.284323e-32: 1, 4.3253775e-32: 1, 4.5507327e-32: 1, 4.5997758e-32: 1, 4.778779e-32: 1, 4.7934582e-32: 1, 4.906046e-32: 1, 4.9446376e-32: 1, 5.055798e-32: 1, 5.282004e-32: 1, 5.3940374e-32: 1, 5.3993077e-32: 1, 5.4093676e-32: 1, 5.4947625e-32: 1, 6.187975e-32: 1, 6.3352986e-32: 1, 6.3815784e-32: 1, 6.539595e-32: 1, 6.693145e-32: 1, 6.785178e-32: 1, 7.187603e-32: 1, 7.237292e-32: 1, 7.4821397e-32: 1, 7.4836243e-32: 1, 7.693249e-32: 1, 7.7917185e-32: 1, 7.7963564e-32: 1, 7.842711e-32: 1, 8.143627e-32: 1, 8.178369e-32: 1, 8.184237e-32: 1, 8.5700074e-32: 1, 8.909699e-32: 1, 9.132336e-32: 1, 9.6643785e-32: 1, 9.772482e-32: 1, 9.929483e-32: 1, 1.0346319e-31: 1, 1.0481703e-31: 1, 1.0502997e-31: 1, 1.0555051e-31: 1, 1.1018557e-31: 1, 1.1279596e-31: 1, 1.1370145e-31: 1, 1.1709256e-31: 1, 1.2073574e-31: 1, 1.2575429e-31: 1, 1.2688282e-31: 1, 1.2878559e-31: 1, 1.3320051e-31: 1, 1.3701626e-31: 1, 1.3777624e-31: 1, 1.3838513e-31: 1, 1.4058155e-31: 1, 1.416193e-31: 1, 1.4507065e-31: 1, 1.5211047e-31: 1, 1.5360906e-31: 1, 1.5398807e-31: 1, 1.5496864e-31: 1, 1.5560484e-31: 1, 1.5911515e-31: 1, 1.6241193e-31: 1, 1.6499724e-31: 1, 1.669129e-31: 1, 1.7066006e-31: 1, 1.7260458e-31: 1, 1.7654685e-31: 1, 1.7758433e-31: 1, 1.7765344e-31: 1, 1.7768463e-31: 1, 1.7814207e-31: 1, 1.8493625e-31: 1, 1.9614548e-31: 1, 1.9754667e-31: 1, 1.9961622e-31: 1, 2.0514351e-31: 1, 2.0524684e-31: 1, 2.0670045e-31: 1, 2.1356142e-31: 1, 2.181377e-31: 1, 2.2065348e-31: 1, 2.2652985e-31: 1, 2.37577e-31: 1, 2.4102943e-31: 1, 2.4899756e-31: 1, 2.5265833e-31: 1, 2.6038241e-31: 1, 2.65008e-31: 1, 2.6594577e-31: 1, 2.6791712e-31: 1, 2.6887339e-31: 1, 2.8633218e-31: 1, 2.8757788e-31: 1, 2.8792474e-31: 1, 3.0264863e-31: 1, 3.0368252e-31: 1, 3.1035094e-31: 1, 3.1588103e-31: 1, 3.2275577e-31: 1, 3.3372343e-31: 1, 3.398515e-31: 1, 3.4455347e-31: 1, 3.4549585e-31: 1, 3.5616675e-31: 1, 3.5689847e-31: 1, 3.6921224e-31: 1, 3.7962668e-31: 1, 3.7994256e-31: 1, 3.914951e-31: 1, 4.0239993e-31: 1, 4.1224126e-31: 1, 4.1321424e-31: 1, 4.1622007e-31: 1, 4.1836907e-31: 1, 4.2115207e-31: 1, 4.2941923e-31: 1, 4.4933446e-31: 1, 5.2160305e-31: 1, 5.4316815e-31: 1, 5.4529406e-31: 1, 5.52598e-31: 1, 5.567835e-31: 1, 6.0884415e-31: 1, 6.188002e-31: 1, 6.669471e-31: 1, 7.093767e-31: 1, 7.169396e-31: 1, 7.232078e-31: 1, 7.4533997e-31: 1, 7.459259e-31: 1, 8.056034e-31: 1, 8.710318e-31: 1, 8.819854e-31: 1, 8.959361e-31: 1, 8.976261e-31: 1, 9.215665e-31: 1, 9.264803e-31: 1, 9.665379e-31: 1, 9.677481e-31: 1, 9.749662e-31: 1, 1.0052936e-30: 1, 1.0360029e-30: 1, 1.0493752e-30: 1, 1.0679598e-30: 1, 1.1049838e-30: 1, 1.1196223e-30: 1, 1.16477375e-30: 1, 1.1691898e-30: 1, 1.1754955e-30: 1, 1.2883529e-30: 1, 1.3259476e-30: 1, 1.3628394e-30: 1, 1.3641604e-30: 1, 1.3760245e-30: 1, 1.4466123e-30: 1, 1.4589485e-30: 1, 1.4747954e-30: 1, 1.5132748e-30: 1, 1.5215292e-30: 1, 1.5217962e-30: 1, 1.5355583e-30: 1, 1.5681519e-30: 1, 1.5701632e-30: 1, 1.6021584e-30: 1, 1.6106026e-30: 1, 1.6380015e-30: 1, 1.6543915e-30: 1, 1.6787145e-30: 1, 1.6925134e-30: 1, 1.6954341e-30: 1, 1.723645e-30: 1, 1.7438564e-30: 1, 1.7467457e-30: 1, 1.812397e-30: 1, 1.9311273e-30: 1, 1.9523857e-30: 1, 1.99369e-30: 1, 1.9951812e-30: 1, 2.1305459e-30: 1, 2.2021884e-30: 1, 2.3553145e-30: 1, 2.3596129e-30: 1, 2.432176e-30: 1, 2.4897583e-30: 1, 2.5703993e-30: 1, 2.6180181e-30: 1, 2.6684322e-30: 1, 2.6747507e-30: 1, 2.7671619e-30: 1, 2.882931e-30: 1, 2.8869146e-30: 1, 2.97034e-30: 1, 3.0464456e-30: 1, 3.153382e-30: 1, 3.17247e-30: 1, 3.1837206e-30: 1, 3.2661402e-30: 1, 3.266564e-30: 1, 3.4620712e-30: 1, 3.5190065e-30: 1, 3.615481e-30: 1, 3.6223556e-30: 1, 3.6247337e-30: 1, 3.6664816e-30: 1, 3.7342352e-30: 1, 3.8110542e-30: 1, 3.9159836e-30: 1, 4.091629e-30: 1, 4.3365834e-30: 1, 4.3471173e-30: 1, 4.4016497e-30: 1, 4.447287e-30: 1, 4.5385675e-30: 1, 4.619863e-30: 1, 4.8453806e-30: 1, 5.06851e-30: 1, 5.083342e-30: 1, 5.5028235e-30: 1, 5.540019e-30: 1, 5.7444257e-30: 1, 5.7575894e-30: 1, 5.7931913e-30: 1, 5.9647867e-30: 1, 6.011065e-30: 1, 6.324198e-30: 1, 6.367481e-30: 1, 6.4471114e-30: 1, 6.733923e-30: 1, 6.974554e-30: 1, 7.0419236e-30: 1, 7.045363e-30: 1, 7.145073e-30: 1, 7.195127e-30: 1, 7.341518e-30: 1, 7.581616e-30: 1, 7.7038296e-30: 1, 7.8728134e-30: 1, 7.982407e-30: 1, 8.1486066e-30: 1, 8.556819e-30: 1, 8.757866e-30: 1, 8.99831e-30: 1, 9.048289e-30: 1, 9.686682e-30: 1, 9.7830854e-30: 1, 9.95103e-30: 1, 1.1243351e-29: 1, 1.1252532e-29: 1, 1.13559405e-29: 1, 1.1819214e-29: 1, 1.208778e-29: 1, 1.2444687e-29: 1, 1.2692361e-29: 1, 1.289204e-29: 1, 1.3035452e-29: 1, 1.3298539e-29: 1, 1.3341729e-29: 1, 1.3933027e-29: 1, 1.4708802e-29: 1, 1.5442236e-29: 1, 1.554377e-29: 1, 1.5851312e-29: 1, 1.6313239e-29: 1, 1.6812594e-29: 1, 1.7295275e-29: 1, 1.840609e-29: 1, 1.859679e-29: 1, 1.8737926e-29: 1, 1.9504141e-29: 1, 1.9535564e-29: 1, 1.9660564e-29: 1, 2.013279e-29: 1, 2.0419904e-29: 1, 2.1151204e-29: 1, 2.4214662e-29: 1, 2.499857e-29: 1, 2.5287842e-29: 1, 2.5518867e-29: 1, 2.6141773e-29: 1, 2.6606984e-29: 1, 2.7230052e-29: 1, 2.733955e-29: 1, 2.736313e-29: 1, 2.9289016e-29: 1, 2.9897923e-29: 1, 3.0184414e-29: 1, 3.0316427e-29: 1, 3.034605e-29: 1, 3.151039e-29: 1, 3.3287957e-29: 1, 3.4413873e-29: 1, 3.7344224e-29: 1, 4.0221004e-29: 1, 4.1221338e-29: 1, 4.4361572e-29: 1, 4.4817768e-29: 1, 4.649053e-29: 1, 4.6621597e-29: 1, 4.6984388e-29: 1, 4.8412998e-29: 1, 4.961367e-29: 1, 5.144306e-29: 1, 5.459898e-29: 1, 5.518487e-29: 1, 5.597271e-29: 1, 5.8986955e-29: 1, 6.0142104e-29: 1, 6.0242216e-29: 1, 6.554815e-29: 1, 6.674619e-29: 1, 6.6846585e-29: 1, 6.8218605e-29: 1, 6.855199e-29: 1, 6.967457e-29: 1, 7.2036713e-29: 1, 7.209775e-29: 1, 7.2636057e-29: 1, 7.601979e-29: 1, 7.808303e-29: 1, 7.98634e-29: 1, 8.3842483e-29: 1, 8.589233e-29: 1, 8.989085e-29: 1, 9.2588745e-29: 1, 9.7428306e-29: 1, 1.0155086e-28: 1, 1.0393844e-28: 1, 1.0563244e-28: 1, 1.0900138e-28: 1, 1.1432663e-28: 1, 1.1691375e-28: 1, 1.1769594e-28: 1, 1.3110811e-28: 1, 1.3362771e-28: 1, 1.4040865e-28: 1, 1.4211361e-28: 1, 1.4409521e-28: 1, 1.4467794e-28: 1, 1.4568925e-28: 1, 1.4682405e-28: 1, 1.4831807e-28: 1, 1.485253e-28: 1, 1.4857289e-28: 1, 1.5040338e-28: 1, 1.5590633e-28: 1, 1.6106101e-28: 1, 1.8035434e-28: 1, 1.9245032e-28: 1, 1.9256048e-28: 1, 2.0259225e-28: 1, 2.0812018e-28: 1, 2.262711e-28: 1, 2.2898462e-28: 1, 2.4473488e-28: 1, 2.4574897e-28: 1, 2.4635627e-28: 1, 2.5795371e-28: 1, 2.6003538e-28: 1, 2.611906e-28: 1, 2.686093e-28: 1, 2.7486696e-28: 1, 2.7745108e-28: 1, 2.8435154e-28: 1, 2.8723076e-28: 1, 2.905168e-28: 1, 2.921215e-28: 1, 2.934159e-28: 1, 2.9534627e-28: 1, 2.964966e-28: 1, 3.0909076e-28: 1, 3.0951314e-28: 1, 3.1141635e-28: 1, 3.1959531e-28: 1, 3.2118784e-28: 1, 3.4718484e-28: 1, 3.6546856e-28: 1, 3.6905652e-28: 1, 3.69403e-28: 1, 3.7656377e-28: 1, 4.1849577e-28: 1, 4.565487e-28: 1, 4.643685e-28: 1, 4.665916e-28: 1, 4.957586e-28: 1, 4.9601204e-28: 1, 5.363271e-28: 1, 5.4046346e-28: 1, 5.4907295e-28: 1, 5.5260313e-28: 1, 6.0292595e-28: 1, 6.0952365e-28: 1, 6.132436e-28: 1, 6.2046756e-28: 1, 7.022643e-28: 1, 7.050882e-28: 1, 7.262778e-28: 1, 7.364076e-28: 1, 7.662979e-28: 1, 8.245801e-28: 1, 8.571136e-28: 1, 8.888194e-28: 1, 9.199592e-28: 1, 1.0200788e-27: 1, 1.0290054e-27: 1, 1.0510874e-27: 1, 1.0634488e-27: 1, 1.0663209e-27: 1, 1.0733363e-27: 1, 1.0799033e-27: 1, 1.1520885e-27: 1, 1.1710708e-27: 1, 1.1802916e-27: 1, 1.2429658e-27: 1, 1.2520409e-27: 1, 1.2834153e-27: 1, 1.3247161e-27: 1, 1.332201e-27: 1, 1.3936975e-27: 1, 1.4028239e-27: 1, 1.5553692e-27: 1, 1.5555175e-27: 1, 1.7102015e-27: 1, 1.7449436e-27: 1, 1.8965693e-27: 1, 1.9395024e-27: 1, 2.0323328e-27: 1, 2.1288998e-27: 1, 2.1571686e-27: 1, 2.2319956e-27: 1, 2.248103e-27: 1, 2.2797631e-27: 1, 2.2852832e-27: 1, 2.4182286e-27: 1, 2.4295184e-27: 1, 2.509452e-27: 1, 2.7550956e-27: 1, 2.7970517e-27: 1, 2.8310916e-27: 1, 2.9435777e-27: 1, 3.0633245e-27: 1, 3.1572629e-27: 1, 3.3416487e-27: 1, 3.481957e-27: 1, 3.5997017e-27: 1, 3.645762e-27: 1, 3.7462827e-27: 1, 3.7704404e-27: 1, 3.8705144e-27: 1, 3.885367e-27: 1, 3.8899197e-27: 1, 4.0089006e-27: 1, 4.3275172e-27: 1, 4.3528324e-27: 1, 4.5185695e-27: 1, 4.5260217e-27: 1, 4.5271787e-27: 1, 4.6205043e-27: 1, 4.7217836e-27: 1, 4.755061e-27: 1, 4.8148942e-27: 1, 5.133764e-27: 1, 5.3544427e-27: 1, 5.4506225e-27: 1, 5.4731874e-27: 1, 5.489895e-27: 1, 5.754107e-27: 1, 5.9903127e-27: 1, 6.622279e-27: 1, 6.728053e-27: 1, 6.953074e-27: 1, 7.2224715e-27: 1, 7.332013e-27: 1, 7.333019e-27: 1, 7.519872e-27: 1, 7.801315e-27: 1, 7.811291e-27: 1, 7.849974e-27: 1, 8.022256e-27: 1, 8.084096e-27: 1, 8.394562e-27: 1, 9.822552e-27: 1, 9.880538e-27: 1, 9.90061e-27: 1, 1.0741027e-26: 1, 1.0743691e-26: 1, 1.0757717e-26: 1, 1.0953752e-26: 1, 1.1429099e-26: 1, 1.1570351e-26: 1, 1.1695447e-26: 1, 1.2375539e-26: 1, 1.24732206e-26: 1, 1.3099727e-26: 1, 1.3217839e-26: 1, 1.3596072e-26: 1, 1.4078477e-26: 1, 1.5059298e-26: 1, 1.5912586e-26: 1, 1.6838936e-26: 1, 1.7026708e-26: 1, 1.7218083e-26: 1, 1.7373792e-26: 1, 1.8158954e-26: 1, 1.840289e-26: 1, 2.0536485e-26: 1, 2.0892858e-26: 1, 2.0921967e-26: 1, 2.1948294e-26: 1, 2.2585308e-26: 1, 2.3238684e-26: 1, 2.3491905e-26: 1, 2.4155101e-26: 1, 2.4613953e-26: 1, 2.5165858e-26: 1, 2.5220928e-26: 1, 2.5223718e-26: 1, 2.574644e-26: 1, 2.7224903e-26: 1, 2.7480537e-26: 1, 2.7750746e-26: 1, 2.8414255e-26: 1, 2.854713e-26: 1, 2.9979395e-26: 1, 3.0092372e-26: 1, 3.3888534e-26: 1, 3.512509e-26: 1, 3.5160886e-26: 1, 3.527979e-26: 1, 3.6167436e-26: 1, 3.7482578e-26: 1, 3.8499303e-26: 1, 3.8570747e-26: 1, 3.9198178e-26: 1, 3.9836425e-26: 1, 4.1470917e-26: 1, 4.5385596e-26: 1, 5.013026e-26: 1, 5.1645854e-26: 1, 5.27763e-26: 1, 5.311217e-26: 1, 5.443311e-26: 1, 5.49348e-26: 1, 5.896297e-26: 1, 6.287887e-26: 1, 6.53762e-26: 1, 6.568467e-26: 1, 7.3319604e-26: 1, 7.592919e-26: 1, 7.8096564e-26: 1, 7.869887e-26: 1, 8.247193e-26: 1, 8.325141e-26: 1, 8.4798887e-26: 1, 8.518243e-26: 1, 8.5309575e-26: 1, 8.99023e-26: 1, 9.410725e-26: 1, 1.0025464e-25: 1, 1.03144297e-25: 1, 1.077526e-25: 1, 1.298228e-25: 1, 1.3349494e-25: 1, 1.3765585e-25: 1, 1.4326834e-25: 1, 1.5191146e-25: 1, 1.5254561e-25: 1, 1.6099432e-25: 1, 1.622799e-25: 1, 1.6461676e-25: 1, 1.7359359e-25: 1, 1.8457173e-25: 1, 1.8941491e-25: 1, 1.9218651e-25: 1, 1.9645759e-25: 1, 1.9750206e-25: 1, 2.0190976e-25: 1, 2.049095e-25: 1, 2.0535712e-25: 1, 2.106075e-25: 1, 2.2294622e-25: 1, 2.2661869e-25: 1, 2.5708472e-25: 1, 2.6290836e-25: 1, 2.7439282e-25: 1, 2.874822e-25: 1, 2.8880563e-25: 1, 2.972048e-25: 1, 2.9764385e-25: 1, 3.0065538e-25: 1, 3.0672214e-25: 1, 3.506299e-25: 1, 3.5280345e-25: 1, 3.5858631e-25: 1, 3.9888448e-25: 1, 4.190012e-25: 1, 4.2139756e-25: 1, 4.48815e-25: 1, 4.5452144e-25: 1, 4.545769e-25: 1, 4.546012e-25: 1, 4.624617e-25: 1, 4.901705e-25: 1, 5.035875e-25: 1, 5.092866e-25: 1, 5.3375014e-25: 1, 5.400604e-25: 1, 5.5294554e-25: 1, 5.6800066e-25: 1, 5.738461e-25: 1, 6.009499e-25: 1, 6.133334e-25: 1, 6.2933617e-25: 1, 6.3061225e-25: 1, 6.3711173e-25: 1, 6.4047937e-25: 1, 6.837376e-25: 1, 6.849645e-25: 1, 6.9009187e-25: 1, 7.147026e-25: 1, 7.1746436e-25: 1, 7.4611603e-25: 1, 7.481396e-25: 1, 7.5690647e-25: 1, 7.5937333e-25: 1, 8.491287e-25: 1, 8.894551e-25: 1, 9.193572e-25: 1, 9.688739e-25: 1, 9.716869e-25: 1, 9.811962e-25: 1, 1.0184434e-24: 1, 1.0344185e-24: 1, 1.0743538e-24: 1, 1.0959532e-24: 1, 1.1607498e-24: 1, 1.2178111e-24: 1, 1.2220086e-24: 1, 1.2468048e-24: 1, 1.3304611e-24: 1, 1.3567124e-24: 1, 1.3706066e-24: 1, 1.4045555e-24: 1, 1.4481462e-24: 1, 1.4617551e-24: 1, 1.5502124e-24: 1, 1.6328658e-24: 1, 1.6524853e-24: 1, 1.7189421e-24: 1, 1.8021853e-24: 1, 2.113819e-24: 1, 2.1944466e-24: 1, 2.2137257e-24: 1, 2.2210085e-24: 1, 2.3581713e-24: 1, 2.476703e-24: 1, 2.5188934e-24: 1, 2.5276143e-24: 1, 2.6043399e-24: 1, 2.656253e-24: 1, 2.6655405e-24: 1, 2.8660857e-24: 1, 2.8808285e-24: 1, 2.9744196e-24: 1, 3.0387597e-24: 1, 3.3110484e-24: 1, 3.8485246e-24: 1, 4.0669144e-24: 1, 4.3377876e-24: 1, 4.3490048e-24: 1, 4.479549e-24: 1, 4.5913097e-24: 1, 4.976448e-24: 1, 5.0084242e-24: 1, 5.0589638e-24: 1, 5.221205e-24: 1, 5.2597676e-24: 1, 5.523703e-24: 1, 5.9200804e-24: 1, 5.9529175e-24: 1, 6.0183342e-24: 1, 6.0247887e-24: 1, 6.0720186e-24: 1, 6.1735237e-24: 1, 6.3540577e-24: 1, 6.8763e-24: 1, 6.992371e-24: 1, 7.183411e-24: 1, 7.1932826e-24: 1, 7.252051e-24: 1, 7.406547e-24: 1, 7.590552e-24: 1, 7.6188076e-24: 1, 7.976465e-24: 1, 8.5810996e-24: 1, 8.5872235e-24: 1, 9.747912e-24: 1, 9.789424e-24: 1, 9.974015e-24: 1, 1.04134365e-23: 1, 1.10265494e-23: 1, 1.12009185e-23: 1, 1.140116e-23: 1, 1.200121e-23: 1, 1.28535316e-23: 1, 1.5823087e-23: 1, 1.5954674e-23: 1, 1.6307315e-23: 1, 1.6849244e-23: 1, 1.6963976e-23: 1, 1.7341573e-23: 1, 1.7430511e-23: 1, 1.7473787e-23: 1, 1.8096815e-23: 1, 1.8307829e-23: 1, 1.842441e-23: 1, 1.8823812e-23: 1, 2.0503795e-23: 1, 2.1468868e-23: 1, 2.2099132e-23: 1, 2.39508e-23: 1, 2.5071038e-23: 1, 2.535225e-23: 1, 2.537547e-23: 1, 2.5517388e-23: 1, 2.5720761e-23: 1, 2.6904994e-23: 1, 2.824011e-23: 1, 2.8324477e-23: 1, 2.907759e-23: 1, 2.9624068e-23: 1, 3.047363e-23: 1, 3.160969e-23: 1, 3.2360406e-23: 1, 3.3513834e-23: 1, 3.3584863e-23: 1, 3.3859122e-23: 1, 3.7999916e-23: 1, 3.8304965e-23: 1, 3.9871905e-23: 1, 4.4294407e-23: 1, 4.642085e-23: 1, 4.7468967e-23: 1, 4.9712143e-23: 1, 5.0494996e-23: 1, 5.4603526e-23: 1, 5.542385e-23: 1, 5.750783e-23: 1, 5.9062786e-23: 1, 5.9525115e-23: 1, 6.0662104e-23: 1, 6.096601e-23: 1, 6.2183166e-23: 1, 6.5337146e-23: 1, 6.69121e-23: 1, 6.9181113e-23: 1, 7.425845e-23: 1, 7.7612585e-23: 1, 8.163258e-23: 1, 8.7594686e-23: 1, 9.1810346e-23: 1, 9.3987204e-23: 1, 9.4201857e-23: 1, 9.4411586e-23: 1, 1.05781956e-22: 1, 1.0725695e-22: 1, 1.1299202e-22: 1, 1.1759846e-22: 1, 1.1958898e-22: 1, 1.2962653e-22: 1, 1.3163873e-22: 1, 1.4465907e-22: 1, 1.6899718e-22: 1, 1.7217594e-22: 1, 1.824676e-22: 1, 1.8687383e-22: 1, 1.9179498e-22: 1, 1.9851754e-22: 1, 2.0135242e-22: 1, 2.0349909e-22: 1, 2.067479e-22: 1, 2.0929994e-22: 1, 2.3101997e-22: 1, 2.36521e-22: 1, 2.4785298e-22: 1, 2.5098128e-22: 1, 2.5839963e-22: 1, 2.8142904e-22: 1, 2.814956e-22: 1, 2.9028615e-22: 1, 2.966921e-22: 1, 3.094704e-22: 1, 3.170378e-22: 1, 3.1846812e-22: 1, 3.2545498e-22: 1, 3.2875916e-22: 1, 3.407371e-22: 1, 3.6284699e-22: 1, 3.6513663e-22: 1, 3.7767987e-22: 1, 4.0559805e-22: 1, 4.255905e-22: 1, 4.2778945e-22: 1, 4.3968007e-22: 1, 4.660576e-22: 1, 5.003961e-22: 1, 5.143657e-22: 1, 5.1479164e-22: 1, 5.447435e-22: 1, 5.497831e-22: 1, 5.854889e-22: 1, 6.7613897e-22: 1, 7.000652e-22: 1, 7.286805e-22: 1, 7.3568254e-22: 1, 7.5337307e-22: 1, 7.7221617e-22: 1, 7.900766e-22: 1, 8.0419783e-22: 1, 9.170434e-22: 1, 9.473308e-22: 1, 9.935254e-22: 1, 9.936771e-22: 1, 1.0842325e-21: 1, 1.1259836e-21: 1, 1.1284088e-21: 1, 1.1391955e-21: 1, 1.1422415e-21: 1, 1.2182079e-21: 1, 1.260782e-21: 1, 1.2642351e-21: 1, 1.3087923e-21: 1, 1.3107408e-21: 1, 1.4269484e-21: 1, 1.489991e-21: 1, 1.5393307e-21: 1, 1.5783916e-21: 1, 1.6500564e-21: 1, 1.7136547e-21: 1, 1.7666496e-21: 1, 1.9307015e-21: 1, 1.9346975e-21: 1, 2.2977557e-21: 1, 2.327867e-21: 1, 2.479959e-21: 1, 2.7408161e-21: 1, 2.7476836e-21: 1, 2.82466e-21: 1, 2.9699684e-21: 1, 3.0560856e-21: 1, 3.398623e-21: 1, 3.5317583e-21: 1, 3.7246634e-21: 1, 3.8724166e-21: 1, 3.982589e-21: 1, 4.7046455e-21: 1, 4.9047262e-21: 1, 4.9126656e-21: 1, 5.2259756e-21: 1, 5.4840507e-21: 1, 5.496659e-21: 1, 5.556532e-21: 1, 5.6977053e-21: 1, 5.7109135e-21: 1, 5.949703e-21: 1, 6.2230445e-21: 1, 6.6683605e-21: 1, 6.7399415e-21: 1, 7.6031405e-21: 1, 7.6495425e-21: 1, 7.852843e-21: 1, 8.730421e-21: 1, 9.948836e-21: 1, 1.19737455e-20: 1, 1.2008602e-20: 1, 1.2891067e-20: 1, 1.32973314e-20: 1, 1.4648451e-20: 1, 1.4869882e-20: 1, 1.513398e-20: 1, 1.6232242e-20: 1, 1.6691955e-20: 1, 1.7179952e-20: 1, 1.7682485e-20: 1, 1.988323e-20: 1, 2.0406368e-20: 1, 2.1930954e-20: 1, 2.5947656e-20: 1, 3.1699823e-20: 1, 3.4563357e-20: 1, 3.7034983e-20: 1, 3.866234e-20: 1, 4.323061e-20: 1, 4.3618904e-20: 1, 4.765919e-20: 1, 4.938165e-20: 1, 4.9670894e-20: 1, 5.2797808e-20: 1, 5.4927e-20: 1, 5.530778e-20: 1, 6.124956e-20: 1, 6.8612745e-20: 1, 7.459813e-20: 1, 7.70816e-20: 1, 8.4359065e-20: 1, 8.43803e-20: 1, 9.6601254e-20: 1, 1.06517876e-19: 1, 1.0744794e-19: 1, 1.0961107e-19: 1, 1.2997086e-19: 1, 1.3132845e-19: 1, 1.3905804e-19: 1, 1.5540056e-19: 1, 1.5799716e-19: 1, 1.6724725e-19: 1, 1.7268597e-19: 1, 1.8035584e-19: 1, 1.8431337e-19: 1, 2.007147e-19: 1, 2.263084e-19: 1, 2.2805724e-19: 1, 2.3438638e-19: 1, 2.3682654e-19: 1, 2.403175e-19: 1, 2.4084524e-19: 1, 2.734511e-19: 1, 2.953082e-19: 1, 3.0561354e-19: 1, 3.5955303e-19: 1, 3.6305934e-19: 1, 4.2571124e-19: 1, 4.463918e-19: 1, 4.5909884e-19: 1, 4.8945445e-19: 1, 5.615585e-19: 1, 6.748026e-19: 1, 6.8435025e-19: 1, 7.822773e-19: 1, 8.691121e-19: 1, 9.155103e-19: 1, 1.0755873e-18: 1, 1.0793316e-18: 1, 1.1553197e-18: 1, 1.3362176e-18: 1, 1.3561525e-18: 1, 1.5322267e-18: 1, 1.5496021e-18: 1, 1.7281324e-18: 1, 1.7521822e-18: 1, 1.8158682e-18: 1, 1.8977215e-18: 1, 1.9916648e-18: 1, 2.0019405e-18: 1, 2.0742453e-18: 1, 2.099641e-18: 1, 2.3152066e-18: 1, 2.7093128e-18: 1, 3.78835e-18: 1, 3.8154703e-18: 1, 3.842082e-18: 1, 3.902467e-18: 1, 4.0362634e-18: 1, 4.1216532e-18: 1, 4.4297395e-18: 1, 4.4821265e-18: 1, 4.6900665e-18: 1, 5.0118414e-18: 1, 5.615459e-18: 1, 6.057809e-18: 1, 6.277152e-18: 1, 6.6860984e-18: 1, 7.5930656e-18: 1, 7.894636e-18: 1, 8.184482e-18: 1, 8.883257e-18: 1, 9.04548e-18: 1, 9.668393e-18: 1, 9.859912e-18: 1, 1.0898618e-17: 1, 1.2145771e-17: 1, 1.462865e-17: 1, 1.5528751e-17: 1, 1.6105025e-17: 1, 1.6112767e-17: 1, 1.634735e-17: 1, 1.8797392e-17: 1, 2.0842802e-17: 1, 2.1206431e-17: 1, 2.1584967e-17: 1, 2.1700882e-17: 1, 2.1820416e-17: 1, 2.2632416e-17: 1, 2.4324981e-17: 1, 2.4325632e-17: 1, 2.5327772e-17: 1, 2.7238115e-17: 1, 2.8976577e-17: 1, 2.9049845e-17: 1, 3.000253e-17: 1, 3.0006877e-17: 1, 3.0521535e-17: 1, 3.1836322e-17: 1, 3.235865e-17: 1, 3.726917e-17: 1, 3.7476172e-17: 1, 3.9148893e-17: 1, 4.2698838e-17: 1, 4.8682196e-17: 1, 5.3857508e-17: 1, 5.5322633e-17: 1, 5.591799e-17: 1, 6.22783e-17: 1, 6.522032e-17: 1, 6.7038006e-17: 1, 7.727839e-17: 1, 8.629155e-17: 1, 1.0502235e-16: 1, 1.0810469e-16: 1, 1.1920402e-16: 1, 1.2194151e-16: 1, 1.2380465e-16: 1, 1.2442963e-16: 1, 1.2478995e-16: 1, 1.3634212e-16: 1, 1.3887644e-16: 1, 1.5906964e-16: 1, 1.5983788e-16: 1, 1.6178987e-16: 1, 1.636252e-16: 1, 1.6368639e-16: 1, 1.7519033e-16: 1, 1.7843519e-16: 1, 1.9330058e-16: 1, 2.073401e-16: 1, 2.0810477e-16: 1, 2.0877665e-16: 1, 2.1585142e-16: 1, 2.2087664e-16: 1, 2.2444825e-16: 1, 2.2550902e-16: 1, 2.2697532e-16: 1, 2.6692655e-16: 1, 2.8039903e-16: 1, 2.8536712e-16: 1, 2.955397e-16: 1, 3.04749e-16: 1, 3.2610596e-16: 1, 3.303051e-16: 1, 3.4604327e-16: 1, 3.5397382e-16: 1, 3.863927e-16: 1, 3.9642283e-16: 1, 4.040026e-16: 1, 4.5129963e-16: 1, 4.520336e-16: 1, 5.1178567e-16: 1, 5.1311493e-16: 1, 5.3013045e-16: 1, 5.3226624e-16: 1, 5.8112495e-16: 1, 6.263189e-16: 1, 6.27553e-16: 1, 6.3479063e-16: 1, 6.5238515e-16: 1, 6.7340226e-16: 1, 6.837459e-16: 1, 6.945981e-16: 1, 7.549404e-16: 1, 7.634811e-16: 1, 8.5741985e-16: 1, 9.04028e-16: 1, 9.139694e-16: 1, 9.773046e-16: 1, 1.0025859e-15: 1, 1.0205521e-15: 1, 1.0215453e-15: 1, 1.0486988e-15: 1, 1.0912025e-15: 1, 1.1189391e-15: 1, 1.183062e-15: 1, 1.1990139e-15: 1, 1.3149516e-15: 1, 1.3309189e-15: 1, 1.3530852e-15: 1, 1.4025273e-15: 1, 1.5160657e-15: 1, 1.5515979e-15: 1, 1.6237113e-15: 1, 1.62474e-15: 1, 1.7036224e-15: 1, 1.7374222e-15: 1, 1.7575538e-15: 1, 1.7803957e-15: 1, 1.8289754e-15: 1, 2.0856581e-15: 1, 2.1966425e-15: 1, 2.2342497e-15: 1, 2.24048e-15: 1, 2.2437303e-15: 1, 2.3337155e-15: 1, 2.6635404e-15: 1, 2.7313683e-15: 1, 2.7392777e-15: 1, 2.9697964e-15: 1, 3.0484102e-15: 1, 3.060645e-15: 1, 3.2084706e-15: 1, 3.2564736e-15: 1, 3.3259632e-15: 1, 3.3619993e-15: 1, 3.538188e-15: 1, 3.818112e-15: 1, 4.041739e-15: 1, 4.0477875e-15: 1, 4.1368445e-15: 1, 4.1443946e-15: 1, 4.304231e-15: 1, 4.4275327e-15: 1, 4.454537e-15: 1, 4.5112776e-15: 1, 4.7587916e-15: 1, 5.1914975e-15: 1, 5.330549e-15: 1, 5.375391e-15: 1, 5.4196387e-15: 1, 5.7231e-15: 1, 5.889474e-15: 1, 5.9459998e-15: 1, 5.9546022e-15: 1, 5.965948e-15: 1, 6.1384677e-15: 1, 6.1567835e-15: 1, 6.256316e-15: 1, 6.2921216e-15: 1, 6.9654077e-15: 1, 7.108128e-15: 1, 7.258423e-15: 1, 7.495575e-15: 1, 8.706868e-15: 1, 9.676673e-15: 1, 9.698551e-15: 1, 9.731831e-15: 1, 1.0095174e-14: 1, 1.1117322e-14: 1, 1.16932416e-14: 1, 1.2471679e-14: 1, 1.3719005e-14: 1, 1.38500415e-14: 1, 1.4002936e-14: 1, 1.4149336e-14: 1, 1.4469334e-14: 1, 1.5557237e-14: 1, 1.5975543e-14: 1, 1.5979383e-14: 1, 1.644109e-14: 1, 1.67123e-14: 1, 1.7030482e-14: 1, 1.8513265e-14: 1, 1.8941708e-14: 1, 1.991122e-14: 1, 2.0078069e-14: 1, 2.0501074e-14: 1, 2.0552597e-14: 1, 2.1144306e-14: 1, 2.4074248e-14: 1, 2.577647e-14: 1, 2.5867983e-14: 1, 2.586818e-14: 1, 2.6608964e-14: 1, 2.664751e-14: 1, 2.7734833e-14: 1, 2.946771e-14: 1, 3.1665954e-14: 1, 3.209329e-14: 1, 3.4136753e-14: 1, 3.45936e-14: 1, 3.57557e-14: 1, 3.70966e-14: 1, 3.8019155e-14: 1, 4.041479e-14: 1, 4.0672923e-14: 1, 4.1200743e-14: 1, 4.2885244e-14: 1, 4.618376e-14: 1, 4.8148893e-14: 1, 4.895743e-14: 1, 5.067227e-14: 1, 5.2990456e-14: 1, 5.5784272e-14: 1, 5.78252e-14: 1, 5.803192e-14: 1, 5.997749e-14: 1, 6.255615e-14: 1, 9.2475974e-14: 1, 9.910596e-14: 1, 1.12768607e-13: 1, 1.1406808e-13: 1, 1.1906673e-13: 1, 1.2292436e-13: 1, 1.2295696e-13: 1, 1.3906908e-13: 1, 1.5249154e-13: 1, 1.5910052e-13: 1, 1.6806672e-13: 1, 1.7116789e-13: 1, 1.7441543e-13: 1, 1.9583774e-13: 1, 2.3192787e-13: 1, 3.5828426e-13: 1, 4.7001715e-13: 1, 4.8432515e-13: 1, 5.1713625e-13: 1, 5.3762376e-13: 1, 5.649971e-13: 1, 6.228758e-13: 1, 7.507342e-13: 1, 7.659122e-13: 1, 7.922078e-13: 1, 9.110363e-13: 1, 1.0279402e-12: 1, 1.1607746e-12: 1, 1.2895423e-12: 1, 1.3415719e-12: 1, 1.3826222e-12: 1, 1.5505412e-12: 1, 1.5878985e-12: 1, 1.7041027e-12: 1, 2.4618966e-12: 1, 2.784012e-12: 1, 2.8103299e-12: 1, 2.8386017e-12: 1, 3.0727456e-12: 1, 4.0475006e-12: 1, 4.3456068e-12: 1, 4.8041337e-12: 1, 5.466896e-12: 1, 5.9832217e-12: 1, 9.261729e-12: 1, 1.0399626e-11: 1, 1.0424132e-11: 1, 1.1383714e-11: 1, 1.1822299e-11: 1, 1.3824463e-11: 1, 1.527371e-11: 1, 1.7679665e-11: 1, 1.8421712e-11: 1, 1.8561026e-11: 1, 1.8856557e-11: 1, 1.9193659e-11: 1, 2.2336749e-11: 1, 2.2653733e-11: 1, 3.378108e-11: 1, 4.384147e-11: 1, 6.953104e-11: 1, 7.180281e-11: 1, 8.873467e-11: 1, 1.2449079e-10: 1, 1.4615509e-10: 1, 1.6216294e-10: 1, 2.0246275e-10: 1, 2.2522514e-10: 1, 2.393105e-10: 1, 2.3935615e-10: 1, 2.874581e-10: 1, 3.203397e-10: 1, 3.678069e-10: 1, 5.314482e-10: 1, 5.431004e-10: 1, 5.505514e-10: 1, 5.860053e-10: 1, 6.009613e-10: 1, 6.513017e-10: 1, 9.491018e-10: 1, 1.029867e-09: 1, 1.4528687e-09: 1, 2.1746713e-09: 1, 2.1977262e-09: 1, 2.2767594e-09: 1, 2.3588551e-09: 1, 2.8037594e-09: 1, 3.468169e-09: 1, 3.501175e-09: 1, 3.8733563e-09: 1, 5.0077458e-09: 1, 7.473284e-09: 1, 1.1990777e-08: 1, 1.2120717e-08: 1, 1.3907183e-08: 1, 1.4310025e-08: 1, 1.7139145e-08: 1, 2.1767184e-08: 1, 4.4869996e-08: 1, 5.335766e-08: 1, 7.181331e-08: 1, 7.951238e-08: 1, 8.732344e-08: 1, 8.894695e-08: 1, 1.255576e-07: 1, 1.6970552e-07: 1, 2.0908563e-07: 1, 3.5887922e-07: 1, 4.1447183e-07: 1, 4.6445476e-07: 1, 5.3507216e-07: 1, 7.227956e-07: 1, 7.787636e-07: 1, 9.1773643e-07: 1, 1.4829747e-06: 1, 2.4338217e-06: 1, 2.600659e-06: 1, 3.2913156e-06: 1, 3.5282544e-06: 1, 5.9679824e-06: 1, 1.4315793e-05: 1, 1.6426635e-05: 1, 1.7018223e-05: 1, 1.7665234e-05: 1, 2.045111e-05: 1, 3.8045124e-05: 1, 4.5151595e-05: 1, 4.6074285e-05: 1, 0.00010286839: 1, 0.00012637391: 1, 0.00023738958: 1, 0.0003980611: 1, 0.005122526: 1, 0.009655246: 1, 0.011051494: 1}\n"
     ]
    }
   ],
   "source": [
    "unique, counts = np.unique(decoded_imgs[1], return_counts=True)\n",
    "print(dict(zip(unique, counts)))"
   ]
  },
  {
   "cell_type": "code",
   "execution_count": 17,
   "metadata": {},
   "outputs": [
    {
     "name": "stdout",
     "output_type": "stream",
     "text": [
      "{0.0: 140232, 0.00392156862745098: 201, 0.00784313725490196: 150, 0.011764705882352941: 159, 0.01568627450980392: 159, 0.0196078431372549: 108, 0.023529411764705882: 84, 0.027450980392156862: 111, 0.03137254901960784: 96, 0.03529411764705882: 78, 0.0392156862745098: 111, 0.043137254901960784: 105, 0.047058823529411764: 120, 0.050980392156862744: 87, 0.054901960784313725: 81, 0.058823529411764705: 48, 0.06274509803921569: 51, 0.06666666666666667: 75, 0.07058823529411765: 66, 0.07450980392156863: 90, 0.0784313725490196: 90, 0.08235294117647059: 57, 0.08627450980392157: 51, 0.09019607843137255: 66, 0.09411764705882353: 36, 0.09803921568627451: 63, 0.10196078431372549: 54, 0.10588235294117647: 96, 0.10980392156862745: 66, 0.11372549019607843: 42, 0.11764705882352941: 57, 0.12156862745098039: 102, 0.12549019607843137: 60, 0.12941176470588237: 72, 0.13333333333333333: 93, 0.13725490196078433: 63, 0.1411764705882353: 48, 0.1450980392156863: 33, 0.14901960784313725: 48, 0.15294117647058825: 72, 0.1568627450980392: 39, 0.1607843137254902: 63, 0.16470588235294117: 78, 0.16862745098039217: 57, 0.17254901960784313: 84, 0.17647058823529413: 81, 0.1803921568627451: 42, 0.1843137254901961: 60, 0.18823529411764706: 84, 0.19215686274509805: 51, 0.19607843137254902: 45, 0.2: 81, 0.20392156862745098: 45, 0.20784313725490197: 72, 0.21176470588235294: 66, 0.21568627450980393: 54, 0.2196078431372549: 45, 0.2235294117647059: 39, 0.22745098039215686: 69, 0.23137254901960785: 72, 0.23529411764705882: 66, 0.23921568627450981: 66, 0.24313725490196078: 81, 0.24705882352941178: 75, 0.25098039215686274: 51, 0.2549019607843137: 102, 0.25882352941176473: 63, 0.2627450980392157: 63, 0.26666666666666666: 78, 0.27058823529411763: 72, 0.27450980392156865: 75, 0.2784313725490196: 72, 0.2823529411764706: 81, 0.28627450980392155: 63, 0.2901960784313726: 90, 0.29411764705882354: 84, 0.2980392156862745: 75, 0.30196078431372547: 75, 0.3058823529411765: 195, 0.30980392156862746: 609, 0.3137254901960784: 246, 0.3176470588235294: 141, 0.3215686274509804: 285, 0.3254901960784314: 165, 0.32941176470588235: 132, 0.3333333333333333: 102, 0.33725490196078434: 126, 0.3411764705882353: 117, 0.34509803921568627: 75, 0.34901960784313724: 123, 0.35294117647058826: 111, 0.3568627450980392: 159, 0.3607843137254902: 96, 0.36470588235294116: 192, 0.3686274509803922: 171, 0.37254901960784315: 93, 0.3764705882352941: 39, 0.3803921568627451: 54, 0.3843137254901961: 45, 0.38823529411764707: 99, 0.39215686274509803: 60, 0.396078431372549: 18, 0.4: 18, 0.403921568627451: 24, 0.40784313725490196: 12, 0.4117647058823529: 21, 0.41568627450980394: 9, 0.4196078431372549: 24, 0.4235294117647059: 21, 0.42745098039215684: 15, 0.43137254901960786: 9, 0.43529411764705883: 24, 0.4392156862745098: 21, 0.44313725490196076: 36, 0.4470588235294118: 21, 0.45098039215686275: 6, 0.4549019607843137: 15, 0.4588235294117647: 9, 0.4627450980392157: 18, 0.4666666666666667: 9, 0.47058823529411764: 21, 0.4745098039215686: 33, 0.47843137254901963: 12, 0.4823529411764706: 12, 0.48627450980392156: 24, 0.49019607843137253: 42, 0.49411764705882355: 12, 0.4980392156862745: 15, 0.5019607843137255: 12, 0.5058823529411764: 6, 0.5098039215686274: 9, 0.5137254901960784: 12, 0.5176470588235295: 12, 0.5215686274509804: 12, 0.5254901960784314: 27, 0.5294117647058824: 3, 0.5333333333333333: 27, 0.5372549019607843: 18, 0.5411764705882353: 12, 0.5450980392156862: 15, 0.5490196078431373: 12, 0.5529411764705883: 9, 0.5568627450980392: 15, 0.5607843137254902: 21, 0.5647058823529412: 12, 0.5686274509803921: 27, 0.5725490196078431: 18, 0.5764705882352941: 12, 0.5803921568627451: 15, 0.5843137254901961: 6, 0.5882352941176471: 6, 0.592156862745098: 6, 0.596078431372549: 12, 0.6: 9, 0.6039215686274509: 12, 0.6078431372549019: 18, 0.611764705882353: 6, 0.615686274509804: 6, 0.6196078431372549: 6, 0.6235294117647059: 3, 0.6274509803921569: 3, 0.6313725490196078: 6, 0.6352941176470588: 3, 0.6431372549019608: 3, 0.6470588235294118: 6, 0.6509803921568628: 3, 0.6549019607843137: 9, 0.6627450980392157: 9, 0.6666666666666666: 6, 0.6705882352941176: 12, 0.6745098039215687: 6, 0.6784313725490196: 6, 0.6823529411764706: 3, 0.6862745098039216: 6, 0.6901960784313725: 6, 0.6980392156862745: 3, 0.7019607843137254: 6, 0.7098039215686275: 3, 0.7215686274509804: 6, 0.7254901960784313: 3, 0.7294117647058823: 6, 0.7372549019607844: 12, 0.7450980392156863: 3, 0.7607843137254902: 3, 0.7647058823529411: 3, 0.7803921568627451: 3, 0.7843137254901961: 3, 0.792156862745098: 6, 0.796078431372549: 3, 0.807843137254902: 3, 0.8274509803921568: 3}\n"
     ]
    }
   ],
   "source": [
    "unique, counts = np.unique(X_test[1], return_counts=True)\n",
    "print(dict(zip(unique, counts)))"
   ]
  },
  {
   "cell_type": "code",
   "execution_count": null,
   "metadata": {
    "collapsed": true
   },
   "outputs": [],
   "source": []
  }
 ],
 "metadata": {
  "kernelspec": {
   "display_name": "Python 2",
   "language": "python",
   "name": "python2"
  },
  "language_info": {
   "codemirror_mode": {
    "name": "ipython",
    "version": 2
   },
   "file_extension": ".py",
   "mimetype": "text/x-python",
   "name": "python",
   "nbconvert_exporter": "python",
   "pygments_lexer": "ipython2",
   "version": "2.7.12"
  }
 },
 "nbformat": 4,
 "nbformat_minor": 2
}

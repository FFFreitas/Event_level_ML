{
 "cells": [
  {
   "cell_type": "code",
   "execution_count": 6,
   "metadata": {},
   "outputs": [],
   "source": [
    "from __future__ import  print_function\n",
    "import torch\n",
    "from torch import nn, optim\n",
    "from torch.nn import functional as F\n",
    "import numpy as np\n",
    "import matplotlib.pyplot as plt\n",
    "import matplotlib.gridspec as gridspec\n",
    "import os\n",
    "from torch.autograd import Variable\n",
    "from torch.utils.data import DataLoader, Dataset\n",
    "from torch.utils.data.sampler import SubsetRandomSampler\n",
    "import torchvision\n",
    "from torchvision import transforms\n",
    "import cv2\n",
    "from torchvision.utils import save_image"
   ]
  },
  {
   "cell_type": "code",
   "execution_count": 2,
   "metadata": {},
   "outputs": [],
   "source": [
    "class MyDataset(Dataset):\n",
    "    def __init__(self, data_npz):\n",
    "        x_npz = np.load(data_npz)\n",
    "        x_ww = x_npz['arr_0']\n",
    "        self.len = x_ww.shape[0]\n",
    "        self.dim = x_ww.shape[1]\n",
    "        self.data = torch.from_numpy(x_ww)\n",
    "    \n",
    "    def __getitem__(self,index):\n",
    "        return self.data[index]\n",
    "            \n",
    "    def __len__(self):\n",
    "        return self.len"
   ]
  },
  {
   "cell_type": "code",
   "execution_count": 3,
   "metadata": {},
   "outputs": [],
   "source": [
    "datset = MyDataset('../x_ww_bw_50176_pre-processed.npz')"
   ]
  },
  {
   "cell_type": "code",
   "execution_count": 4,
   "metadata": {},
   "outputs": [],
   "source": [
    "validation_split = .2\n",
    "shuffle_dataset = True\n",
    "random_seed = 42"
   ]
  },
  {
   "cell_type": "code",
   "execution_count": 5,
   "metadata": {},
   "outputs": [],
   "source": [
    "dataset_size = len(datset)\n",
    "indices = list(range(dataset_size))\n",
    "split = int(np.floor(validation_split * dataset_size))\n",
    "if shuffle_dataset :\n",
    "    np.random.seed(random_seed)\n",
    "    np.random.shuffle(indices)\n",
    "train_indices, val_indices = indices[split:], indices[:split]"
   ]
  },
  {
   "cell_type": "code",
   "execution_count": 7,
   "metadata": {},
   "outputs": [],
   "source": [
    "train_sampler = SubsetRandomSampler(train_indices)\n",
    "val_sampler = SubsetRandomSampler(val_indices)"
   ]
  },
  {
   "cell_type": "code",
   "execution_count": 8,
   "metadata": {},
   "outputs": [],
   "source": [
    "train_loader = DataLoader(dataset=datset, batch_size=32, sampler=train_sampler, num_workers=2)"
   ]
  },
  {
   "cell_type": "code",
   "execution_count": 9,
   "metadata": {},
   "outputs": [],
   "source": [
    "test_loader = DataLoader(dataset=datset, batch_size=32, sampler=val_sampler, num_workers=2)"
   ]
  },
  {
   "cell_type": "code",
   "execution_count": 10,
   "metadata": {},
   "outputs": [],
   "source": [
    "device = torch.device('cuda')"
   ]
  },
  {
   "cell_type": "code",
   "execution_count": 11,
   "metadata": {},
   "outputs": [],
   "source": [
    "class VAE(nn.Module):\n",
    "    def __init__(self):\n",
    "        super(VAE, self).__init__()\n",
    "        \n",
    "        self.fc1 = nn.Linear(50176, 400)\n",
    "        self.fc21 = nn.Linear(400, 20)\n",
    "        self.fc22 = nn.Linear(400, 20)\n",
    "        self.fc3 = nn.Linear(20, 400)\n",
    "        self.fc4 = nn.Linear(400, 50176)\n",
    "        \n",
    "    def encode(self, x):\n",
    "        h1 = F.relu(self.fc1(x))\n",
    "        return self.fc21(h1), self.fc22(h1)\n",
    "    \n",
    "    def reparametrize(self, mu, logvar):\n",
    "        std = torch.exp(0.5*logvar)\n",
    "        eps = torch.rand_like(std)\n",
    "        return eps.mul(std).add_(mu)\n",
    "    \n",
    "    def decode(self, z):\n",
    "        h3 = F.relu(self.fc3(z))\n",
    "        return torch.sigmoid(self.fc4(h3))\n",
    "    \n",
    "    def forward(self, x):\n",
    "        mu, logvar = self.encode(x.view(-1,50176))\n",
    "        z = self.reparametrize(mu, logvar)\n",
    "        return self.decode(z), mu, logvar"
   ]
  },
  {
   "cell_type": "code",
   "execution_count": 12,
   "metadata": {},
   "outputs": [],
   "source": [
    "model = VAE().to(device)"
   ]
  },
  {
   "cell_type": "code",
   "execution_count": 13,
   "metadata": {},
   "outputs": [],
   "source": [
    "optimizer = optim.Adam(model.parameters(), lr=1e-3)"
   ]
  },
  {
   "cell_type": "code",
   "execution_count": 14,
   "metadata": {},
   "outputs": [],
   "source": [
    "def loss_func(recon_x, x, mu, logvar):\n",
    "    BCE = F.binary_cross_entropy(recon_x, x.view(-1, 50176), reduction='sum')\n",
    "    \n",
    "    KLD = -0.5* torch.sum(1 + logvar - mu.pow(2) - logvar.exp())\n",
    "    \n",
    "    return BCE + KLD"
   ]
  },
  {
   "cell_type": "code",
   "execution_count": 17,
   "metadata": {},
   "outputs": [],
   "source": [
    "def train(epoch):\n",
    "    model.train()\n",
    "    train_loss = 0\n",
    "    for batch_idx, data in enumerate(train_loader, 0):\n",
    "        data = data.to(device)\n",
    "        optimizer.zero_grad()\n",
    "        recon_batch, mu, logvar = model(data)\n",
    "        loss = loss_func(recon_batch, data, mu, logvar)\n",
    "        loss.backward()\n",
    "        train_loss += loss.item()\n",
    "        optimizer.step()\n",
    "        if batch_idx % 100 == 0:\n",
    "            print('train epoch: {} [{}/{} ({:.2f}%)]\\tLoss:{:.3f}'.format(\n",
    "                    epoch, batch_idx*len(data), len(train_loader.dataset),\n",
    "                    100.* batch_idx/len(train_loader), loss.item()/len(data)))\n",
    "            \n",
    "#        print('=====> Epoch:{} Avarage Loss: {:.4f}'.format(\n",
    "#                epoch, train_loss/ len(train_loader.dataset)))\n",
    "\n",
    "def test(epoch):\n",
    "    model.eval()\n",
    "    test_loss = 0\n",
    "    with torch.no_grad():\n",
    "        for batch_idx, data in enumerate(train_loader, 0):\n",
    "            data = data.to(device)\n",
    "            recon_batch, mu, logvar = model(data)\n",
    "            test_loss += loss_func(recon_batch, data, mu, logvar).item()\n",
    "            if batch_idx ==0:\n",
    "                n = min(data.size(0), 8)\n",
    "                comparison = torch.cat([data.view(32,1,224,224)[:n], recon_batch.view(32,1,224,224)[:n]])\n",
    "                save_image\n",
    "            "
   ]
  },
  {
   "cell_type": "code",
   "execution_count": 18,
   "metadata": {},
   "outputs": [
    {
     "name": "stdout",
     "output_type": "stream",
     "text": [
      "train epoch: 1 [0/49993 (0.00%)]\tLoss:7741.579\n",
      "train epoch: 1 [3200/49993 (8.00%)]\tLoss:8483.070\n",
      "train epoch: 1 [6400/49993 (16.00%)]\tLoss:8861.019\n",
      "train epoch: 1 [9600/49993 (24.00%)]\tLoss:8632.864\n",
      "train epoch: 1 [12800/49993 (32.00%)]\tLoss:8300.379\n",
      "train epoch: 1 [16000/49993 (40.00%)]\tLoss:7832.090\n",
      "train epoch: 1 [19200/49993 (48.00%)]\tLoss:8374.427\n",
      "train epoch: 1 [22400/49993 (56.00%)]\tLoss:7957.091\n",
      "train epoch: 1 [25600/49993 (64.00%)]\tLoss:8300.954\n",
      "train epoch: 1 [28800/49993 (72.00%)]\tLoss:8025.299\n",
      "train epoch: 1 [32000/49993 (80.00%)]\tLoss:8275.681\n",
      "train epoch: 1 [35200/49993 (88.00%)]\tLoss:8170.362\n",
      "train epoch: 1 [38400/49993 (96.00%)]\tLoss:8181.875\n",
      "train epoch: 2 [0/49993 (0.00%)]\tLoss:8309.934\n",
      "train epoch: 2 [3200/49993 (8.00%)]\tLoss:8108.772\n",
      "train epoch: 2 [6400/49993 (16.00%)]\tLoss:8100.393\n",
      "train epoch: 2 [9600/49993 (24.00%)]\tLoss:8255.634\n",
      "train epoch: 2 [12800/49993 (32.00%)]\tLoss:8242.307\n",
      "train epoch: 2 [16000/49993 (40.00%)]\tLoss:8257.865\n",
      "train epoch: 2 [19200/49993 (48.00%)]\tLoss:8290.953\n",
      "train epoch: 2 [22400/49993 (56.00%)]\tLoss:8278.129\n",
      "train epoch: 2 [25600/49993 (64.00%)]\tLoss:7959.738\n",
      "train epoch: 2 [28800/49993 (72.00%)]\tLoss:16475.336\n",
      "train epoch: 2 [32000/49993 (80.00%)]\tLoss:8553.346\n",
      "train epoch: 2 [35200/49993 (88.00%)]\tLoss:8500.730\n",
      "train epoch: 2 [38400/49993 (96.00%)]\tLoss:8160.927\n",
      "train epoch: 3 [0/49993 (0.00%)]\tLoss:8372.165\n",
      "train epoch: 3 [3200/49993 (8.00%)]\tLoss:8098.067\n",
      "train epoch: 3 [6400/49993 (16.00%)]\tLoss:8039.623\n",
      "train epoch: 3 [9600/49993 (24.00%)]\tLoss:7828.620\n",
      "train epoch: 3 [12800/49993 (32.00%)]\tLoss:8505.749\n",
      "train epoch: 3 [16000/49993 (40.00%)]\tLoss:8000.379\n",
      "train epoch: 3 [19200/49993 (48.00%)]\tLoss:8517.251\n",
      "train epoch: 3 [22400/49993 (56.00%)]\tLoss:7672.523\n",
      "train epoch: 3 [25600/49993 (64.00%)]\tLoss:8608.495\n",
      "train epoch: 3 [28800/49993 (72.00%)]\tLoss:7748.860\n",
      "train epoch: 3 [32000/49993 (80.00%)]\tLoss:8463.417\n",
      "train epoch: 3 [35200/49993 (88.00%)]\tLoss:8629.312\n",
      "train epoch: 3 [38400/49993 (96.00%)]\tLoss:8461.550\n",
      "train epoch: 4 [0/49993 (0.00%)]\tLoss:7979.739\n",
      "train epoch: 4 [3200/49993 (8.00%)]\tLoss:7390.529\n",
      "train epoch: 4 [6400/49993 (16.00%)]\tLoss:6958.211\n",
      "train epoch: 4 [9600/49993 (24.00%)]\tLoss:8008.584\n",
      "train epoch: 4 [12800/49993 (32.00%)]\tLoss:7862.629\n",
      "train epoch: 4 [16000/49993 (40.00%)]\tLoss:7880.643\n",
      "train epoch: 4 [19200/49993 (48.00%)]\tLoss:8455.770\n",
      "train epoch: 4 [22400/49993 (56.00%)]\tLoss:8508.711\n",
      "train epoch: 4 [25600/49993 (64.00%)]\tLoss:8620.586\n",
      "train epoch: 4 [28800/49993 (72.00%)]\tLoss:7932.226\n",
      "train epoch: 4 [32000/49993 (80.00%)]\tLoss:7798.407\n",
      "train epoch: 4 [35200/49993 (88.00%)]\tLoss:8637.361\n",
      "train epoch: 4 [38400/49993 (96.00%)]\tLoss:8011.564\n",
      "train epoch: 5 [0/49993 (0.00%)]\tLoss:8502.021\n",
      "train epoch: 5 [3200/49993 (8.00%)]\tLoss:7865.200\n",
      "train epoch: 5 [6400/49993 (16.00%)]\tLoss:7556.944\n",
      "train epoch: 5 [9600/49993 (24.00%)]\tLoss:7712.901\n",
      "train epoch: 5 [12800/49993 (32.00%)]\tLoss:7852.754\n",
      "train epoch: 5 [16000/49993 (40.00%)]\tLoss:8227.816\n",
      "train epoch: 5 [19200/49993 (48.00%)]\tLoss:7788.854\n",
      "train epoch: 5 [22400/49993 (56.00%)]\tLoss:8008.275\n",
      "train epoch: 5 [25600/49993 (64.00%)]\tLoss:7802.175\n",
      "train epoch: 5 [28800/49993 (72.00%)]\tLoss:7921.902\n",
      "train epoch: 5 [32000/49993 (80.00%)]\tLoss:8622.749\n",
      "train epoch: 5 [35200/49993 (88.00%)]\tLoss:8388.611\n",
      "train epoch: 5 [38400/49993 (96.00%)]\tLoss:7862.426\n",
      "train epoch: 6 [0/49993 (0.00%)]\tLoss:8608.638\n",
      "train epoch: 6 [3200/49993 (8.00%)]\tLoss:8312.646\n",
      "train epoch: 6 [6400/49993 (16.00%)]\tLoss:8256.592\n",
      "train epoch: 6 [9600/49993 (24.00%)]\tLoss:7572.203\n",
      "train epoch: 6 [12800/49993 (32.00%)]\tLoss:8056.633\n",
      "train epoch: 6 [16000/49993 (40.00%)]\tLoss:8194.307\n",
      "train epoch: 6 [19200/49993 (48.00%)]\tLoss:8003.247\n",
      "train epoch: 6 [22400/49993 (56.00%)]\tLoss:8300.494\n",
      "train epoch: 6 [25600/49993 (64.00%)]\tLoss:8185.650\n",
      "train epoch: 6 [28800/49993 (72.00%)]\tLoss:8345.072\n",
      "train epoch: 6 [32000/49993 (80.00%)]\tLoss:8153.790\n",
      "train epoch: 6 [35200/49993 (88.00%)]\tLoss:8270.091\n",
      "train epoch: 6 [38400/49993 (96.00%)]\tLoss:8074.671\n",
      "train epoch: 7 [0/49993 (0.00%)]\tLoss:7566.086\n",
      "train epoch: 7 [3200/49993 (8.00%)]\tLoss:7850.811\n",
      "train epoch: 7 [6400/49993 (16.00%)]\tLoss:7937.836\n",
      "train epoch: 7 [9600/49993 (24.00%)]\tLoss:8333.761\n",
      "train epoch: 7 [12800/49993 (32.00%)]\tLoss:7590.656\n",
      "train epoch: 7 [16000/49993 (40.00%)]\tLoss:8060.304\n",
      "train epoch: 7 [19200/49993 (48.00%)]\tLoss:7449.636\n",
      "train epoch: 7 [22400/49993 (56.00%)]\tLoss:7152.109\n",
      "train epoch: 7 [25600/49993 (64.00%)]\tLoss:8767.272\n",
      "train epoch: 7 [28800/49993 (72.00%)]\tLoss:8107.313\n",
      "train epoch: 7 [32000/49993 (80.00%)]\tLoss:8195.160\n",
      "train epoch: 7 [35200/49993 (88.00%)]\tLoss:8204.964\n",
      "train epoch: 7 [38400/49993 (96.00%)]\tLoss:7873.943\n",
      "train epoch: 8 [0/49993 (0.00%)]\tLoss:7810.786\n",
      "train epoch: 8 [3200/49993 (8.00%)]\tLoss:8542.857\n",
      "train epoch: 8 [6400/49993 (16.00%)]\tLoss:7640.557\n",
      "train epoch: 8 [9600/49993 (24.00%)]\tLoss:8293.039\n",
      "train epoch: 8 [12800/49993 (32.00%)]\tLoss:8378.430\n",
      "train epoch: 8 [16000/49993 (40.00%)]\tLoss:7466.312\n",
      "train epoch: 8 [19200/49993 (48.00%)]\tLoss:8018.525\n",
      "train epoch: 8 [22400/49993 (56.00%)]\tLoss:7890.630\n",
      "train epoch: 8 [25600/49993 (64.00%)]\tLoss:8393.673\n",
      "train epoch: 8 [28800/49993 (72.00%)]\tLoss:8500.657\n",
      "train epoch: 8 [32000/49993 (80.00%)]\tLoss:8997.606\n",
      "train epoch: 8 [35200/49993 (88.00%)]\tLoss:7133.288\n",
      "train epoch: 8 [38400/49993 (96.00%)]\tLoss:8286.912\n",
      "train epoch: 9 [0/49993 (0.00%)]\tLoss:8368.489\n",
      "train epoch: 9 [3200/49993 (8.00%)]\tLoss:8455.360\n",
      "train epoch: 9 [6400/49993 (16.00%)]\tLoss:7571.602\n",
      "train epoch: 9 [9600/49993 (24.00%)]\tLoss:7859.568\n",
      "train epoch: 9 [12800/49993 (32.00%)]\tLoss:7841.714\n",
      "train epoch: 9 [16000/49993 (40.00%)]\tLoss:7875.167\n",
      "train epoch: 9 [19200/49993 (48.00%)]\tLoss:7906.805\n",
      "train epoch: 9 [22400/49993 (56.00%)]\tLoss:7771.510\n",
      "train epoch: 9 [25600/49993 (64.00%)]\tLoss:7245.284\n",
      "train epoch: 9 [28800/49993 (72.00%)]\tLoss:7938.620\n",
      "train epoch: 9 [32000/49993 (80.00%)]\tLoss:8210.729\n",
      "train epoch: 9 [35200/49993 (88.00%)]\tLoss:7896.280\n",
      "train epoch: 9 [38400/49993 (96.00%)]\tLoss:8068.617\n"
     ]
    }
   ],
   "source": [
    "for epoch in range(1,10):\n",
    "    train(epoch)"
   ]
  }
 ],
 "metadata": {
  "kernelspec": {
   "display_name": "Python 3",
   "language": "python",
   "name": "python3"
  },
  "language_info": {
   "codemirror_mode": {
    "name": "ipython",
    "version": 3
   },
   "file_extension": ".py",
   "mimetype": "text/x-python",
   "name": "python",
   "nbconvert_exporter": "python",
   "pygments_lexer": "ipython3",
   "version": "3.6.5"
  }
 },
 "nbformat": 4,
 "nbformat_minor": 2
}

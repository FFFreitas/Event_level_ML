{
 "cells": [
  {
   "cell_type": "code",
   "execution_count": 1,
   "metadata": {},
   "outputs": [],
   "source": [
    "import torch\n",
    "from torch.autograd import Variable\n",
    "import torch.nn as nn\n",
    "\n",
    "from itertools import chain\n",
    "import numpy as np\n",
    "from numpy import prod"
   ]
  },
  {
   "cell_type": "code",
   "execution_count": 2,
   "metadata": {},
   "outputs": [],
   "source": [
    "class Encoder(nn.Module):\n",
    "    #encoder ---> mu, log_sigma**2\n",
    "    \n",
    "    def __init__(self, config):\n",
    "        super(Encoder, self).__init__()\n",
    "        self.config = config\n",
    "        \n",
    "        \n",
    "        self.main = nn.Sequential(\n",
    "            nn.Conv2d(config.num_channels, 64, 4, 2, 1, bias=False),\n",
    "            nn.ReLU(True), \n",
    "            nn.BatchNorm2d(64), \n",
    "            nn.Conv2d(64, 128, 4, 2, 1, bias=False),\n",
    "            nn.ReLU(True), \n",
    "            nn.BatchNorm2d(128),\n",
    "            nn.Conv2d(128, 256, 4, 2, 1, bias=False),\n",
    "            nn.ReLU(True), \n",
    "            nn.BatchNorm2d(256),\n",
    "            nn.Conv2d(256, 128, 4, 2, 1, bias=False),\n",
    "            nn.ReLU(True), \n",
    "            nn.BatchNorm2d(128)\n",
    "            )\n",
    "        self.linear_mu = nn.Linear(int(prod(config.c_dim)), self.config.z_dim)\n",
    "        self.linear_log_sigma_sq = nn.Linear(int(prod(config.c_dim)), self.config.z_dim)\n",
    "        self.reset_bias_and_weights()\n",
    "        \n",
    "    \n",
    "    \n",
    "    def reset_bias_and_weights(self):\n",
    "        for m in self.modules():\n",
    "            if isinstance(m, nn.Linear):\n",
    "                m.weight.data.normal_(0.0, self.config.std)\n",
    "                m.bias.data.normal_(0.0, self.config.std)\n",
    "                \n",
    "            elif isinstance(m, nn.Conv2d):\n",
    "                m.weight.data.normal_(0.0, self.config.std)\n",
    "            \n",
    "            elif isinstance(m, nn.BatchNorm2d):\n",
    "                m.weight.data.normal_(1.0, self.config.std)\n",
    "                m.bias.data.zero_()\n",
    "                \n",
    "                \n",
    "    def forward(self, input):\n",
    "        h = self.main(input)\n",
    "        h = h.resize(h.size(0), h.size(1)*h.size(2)*h.size(3))\n",
    "        return self.linear_mu(h), self.linear_log_sigma_sq(h)"
   ]
  },
  {
   "cell_type": "code",
   "execution_count": 4,
   "metadata": {},
   "outputs": [],
   "source": [
    "class Decoder(nn.Module):\n",
    "    # N(mu, log_sig_sq) --> z --> x\n",
    "    \n",
    "    def __init__(self, config):\n",
    "        super(Decoder, self).__init__()\n",
    "        self.config = config\n",
    "        self.main_1 = nn.Sequential( \n",
    "                nn.Linear(config.z_dim, int(prod(config.c_dim))),\n",
    "                nn.ReLU(),\n",
    "                nn.Linear(int(prod(config.c_dim)), int(prod(config.c_dim))),\n",
    "                nn.ReLU()\n",
    "                )\n",
    "        self.main_2 = nn.Sequential(\n",
    "                nn.ConvTranspose2d(128, 256, 4, 2, 1, bias=False),\n",
    "                nn.ReLU(True),\n",
    "                nn.BatchNorm2d(256),\n",
    "                nn.ConvTranspose2d(256, 128, 4, 2, 1, bias=False),\n",
    "                nn.ReLU(True),\n",
    "                nn.BatchNorm2d(128),\n",
    "                nn.ConvTranspose2d(128, 64, 4, 2, 1, bias=False),\n",
    "                nn.ReLU(True),\n",
    "                nn.ConvTranspose2d(64, config.num_channels, 4, 2, 1, bias=False),\n",
    "                nn.Sigmoid()\n",
    "                )\n",
    "        self.reset_bias_and_weights()\n",
    "        \n",
    "    def reset_bias_and_weights(self):\n",
    "        for m in self.modules():\n",
    "            if isinstance(m, nn.Linear):\n",
    "                m.weight.data.norma_(0.0, self.config.std)\n",
    "                m.bias.data.norma_(0.0, self.config.std)\n",
    "            \n",
    "            if isinstance(m, nn.Conv2d) or isinstance(m, nn.ConvTranspose2d):\n",
    "                m.weight.data.norma_(0.0, self.config.std)\n",
    "                \n",
    "    def forward(self, input):\n",
    "        h = self.main_1(input)\n",
    "        h = h.resize(input.size(0), *self.config.c_dim)\n",
    "        x = self.main_2(h)        "
   ]
  },
  {
   "cell_type": "code",
   "execution_count": 5,
   "metadata": {},
   "outputs": [],
   "source": [
    "class VAE(nn.Module):\n",
    "    #VAE\n",
    "    def __init__(self, config):\n",
    "        super(VAE, self).__init__()\n",
    "        self.config = config\n",
    "        self.Encoder = Encoder(config)\n",
    "        self.Decoder = Decoder\n",
    "        \n",
    "        \n",
    "    def parameters(self):\n",
    "        return chain(self.Encoder.parameters(), self.Decoder.parameters())\n",
    "    \n",
    "    def sample_from_q(self, mu, log_sigma_sq):\n",
    "        epsilon = Variable(torch.randn(mu.size()), requires_grad=False).type(torch.cuda.FloatTensor)\n",
    "        sigma = torch.exp(log_sigma_sq/2)\n",
    "        return mu + sigma*epsilon\n",
    "    \n",
    "    def forward(self, input):\n",
    "        self.mu, self.log_sigma_sq = self.Encoder(input)\n",
    "        z = self.sample_from_q(self.mu, self.log_sigma_sq)\n",
    "        return self.Decoder(z)"
   ]
  },
  {
   "cell_type": "code",
   "execution_count": 6,
   "metadata": {},
   "outputs": [
    {
     "data": {
      "text/plain": [
       "__main__.VAE"
      ]
     },
     "execution_count": 6,
     "metadata": {},
     "output_type": "execute_result"
    }
   ],
   "source": [
    "VAE"
   ]
  },
  {
   "cell_type": "code",
   "execution_count": null,
   "metadata": {},
   "outputs": [],
   "source": []
  }
 ],
 "metadata": {
  "kernelspec": {
   "display_name": "Python 3",
   "language": "python",
   "name": "python3"
  },
  "language_info": {
   "codemirror_mode": {
    "name": "ipython",
    "version": 3
   },
   "file_extension": ".py",
   "mimetype": "text/x-python",
   "name": "python",
   "nbconvert_exporter": "python",
   "pygments_lexer": "ipython3",
   "version": "3.6.5"
  }
 },
 "nbformat": 4,
 "nbformat_minor": 2
}

{
 "cells": [
  {
   "cell_type": "code",
   "execution_count": 1,
   "metadata": {
    "collapsed": true
   },
   "outputs": [],
   "source": [
    "import ROOT\n",
    "import numpy as np\n",
    "from matplotlib import pyplot as plt\n",
    "\n",
    "from matplotlib.patches import Circle, Wedge, RegularPolygon\n",
    "from matplotlib.collections import PatchCollection\n",
    "\n",
    "from AnalysisEvent import AnalysisEvent\n",
    "import math\n"
   ]
  },
  {
   "cell_type": "code",
   "execution_count": 2,
   "metadata": {},
   "outputs": [
    {
     "data": {
      "text/plain": [
       "0"
      ]
     },
     "execution_count": 2,
     "metadata": {},
     "output_type": "execute_result"
    }
   ],
   "source": [
    "ROOT.gSystem.Load(\"/home/felipe/MG5_aMC_v2_5_5/Delphes/libDelphes\")"
   ]
  },
  {
   "cell_type": "code",
   "execution_count": 3,
   "metadata": {
    "collapsed": true
   },
   "outputs": [],
   "source": [
    "events = AnalysisEvent(\"/home/felipe/MG5_aMC_v2_5_5/Jet_images_autoencoder/Events/run_01/pp_jj.root\")"
   ]
  },
  {
   "cell_type": "code",
   "execution_count": 4,
   "metadata": {
    "collapsed": true
   },
   "outputs": [],
   "source": [
    "events.addCollection(\"jets\",\"Jet\")\n",
    "events.addCollection(\"genjets\",\"GenJet\")\n",
    "events.addCollection(\"electrons\",\"Electron\")\n",
    "events.addCollection(\"muons\",\"Muon\")\n",
    "events.addCollection(\"particles\",\"Particle\")\n",
    "events.addCollection(\"towers\",\"Tower\")\n",
    "events.addCollection(\"tracks\",\"Track\")\n",
    "events.addCollection(\"eflowtracks\",\"EFlowTrack\")\n",
    "events.addCollection(\"eflowphotons\",\"EFlowPhoton\")\n",
    "events.addCollection(\"eflowneutralhads\",\"EFlowNeutralHadron\")"
   ]
  },
  {
   "cell_type": "code",
   "execution_count": 5,
   "metadata": {
    "collapsed": true
   },
   "outputs": [],
   "source": [
    "class DetectorImage:\n",
    "\n",
    "    shapescale = 0.3\n",
    "    \n",
    "    deta = 0.02\n",
    "    dphi = 0.02\n",
    "    \n",
    "    etamin = -5.0\n",
    "    etamax = 5.0\n",
    "\n",
    "    phimin = -math.pi\n",
    "    phimax = math.pi\n",
    "\n",
    "    n_bins_eta = int( (etamax-etamin)/deta)\n",
    "    n_bins_phi = int( (phimax-phimin)/dphi)\n",
    "\n",
    "    def get_image_from_particles(self,collection,idx):\n",
    "\n",
    "\n",
    "        img = np.zeros( (self.n_bins_eta, self.n_bins_phi) , np.int16 )\n",
    "\n",
    "        def find_bin(eta,phi):\n",
    "            \n",
    "            #print \"Check \",phi,\" \",self.phimin,\" \",self.dphi\n",
    "            etabin = int((eta-self.etamin)/self.deta)\n",
    "            phibin = int((phi-self.phimin)/self.dphi)\n",
    "\n",
    "            return (etabin,phibin)\n",
    "            \n",
    "        for track in collection:\n",
    "\n",
    "            (etabin, phibin) = find_bin(track.Eta,track.Phi)\n",
    "\n",
    "            #print (track.Eta,track.Phi),\" \",(etabin, phibin)\n",
    "\n",
    "            if hasattr(track,\"PT\"):\n",
    "                try:\n",
    "                    img[etabin,phibin] = img[etabin,phibin] + track.PT\n",
    "                except IndexError:\n",
    "                    img[0,0] = -999\n",
    "            else:\n",
    "                try:\n",
    "                    img[etabin,phibin] = img[etabin,phibin] + track.ET\n",
    "                except IndexError:\n",
    "                    img[0,0] = -999\n",
    "                    \n",
    "    def get_image_from_event(self,event,idx):\n",
    "        xsize = 1\n",
    "        ysize = 1\n",
    "        \n",
    "        #fig = matplotlib.pyplot.figure( figsize=(xsize,ysize) )\n",
    "\n",
    "        fig, ax = plt.subplots(subplot_kw=dict(xlim=(self.etamin,self.etamax),ylim=(self.phimin,self.phimax)),\n",
    "                              figsize=(xsize,ysize),dpi=224)        \n",
    "        patches = []\n",
    "        ax.axis('off')\n",
    "        \n",
    "        for el in event.EFlowTrack:\n",
    "            coords = ( el.Eta, el.Phi )\n",
    "            \n",
    "            #print \"Circle at \",coords, math.log(el.PT), \" pT \",el.PT\n",
    "            \n",
    "            circle = Circle(coords, self.shapescale*math.log(el.PT), fill=False,lw=0.1, color='r')\n",
    " \n",
    "            ax.add_artist(circle)\n",
    "\n",
    "        for el in event.EFlowPhoton:\n",
    "            coords = ( el.Eta, el.Phi )\n",
    "            \n",
    "            #print \"Triangle at \",coords, math.log(el.ET), \" ET \",el.ET\n",
    "            \n",
    "            square = RegularPolygon(coords, 4, self.shapescale*math.log(el.ET), fill=False,lw=0.1, color='g')\n",
    " \n",
    "            ax.add_artist(square)\n",
    "\n",
    "        for el in event.EFlowNeutralHadron:\n",
    "            coords = ( el.Eta, el.Phi )\n",
    "            \n",
    "            #print \"Pentagon at \",coords, math.log(el.ET), \" ET \",el.ET\n",
    "            \n",
    "            hexagon = RegularPolygon(coords, 6, self.shapescale*math.log(el.ET), fill=False,lw=0.1, color='b')\n",
    " \n",
    "            ax.add_artist(hexagon)\n",
    "\n",
    "        extent = ax.get_window_extent().transformed(fig.dpi_scale_trans.inverted())\n",
    "        fig.savefig('colors_ppjj/plotcolors_{}.png'.format(idx),bbox_inches = extent)\n",
    "        plt.close()"
   ]
  },
  {
   "cell_type": "code",
   "execution_count": 6,
   "metadata": {},
   "outputs": [
    {
     "name": "stderr",
     "output_type": "stream",
     "text": [
      "TClass::TClass:0: RuntimeWarning: no dictionary for class CompBase is available\n"
     ]
    }
   ],
   "source": [
    "cnt = 0\n",
    "for event in events:\n",
    "    cnt +=1\n",
    "    if (cnt==3500):\n",
    "        break\n",
    "    \n",
    "    dimage = DetectorImage()\n",
    "\n",
    "    img_photons = dimage.get_image_from_particles(event.EFlowPhoton,cnt)\n",
    "    img_tracks = dimage.get_image_from_particles(event.EFlowTrack,cnt)\n",
    "    img_neutrals = dimage.get_image_from_particles(event.EFlowNeutralHadron,cnt)\n",
    "    \n",
    "    dimage =  dimage.get_image_from_event(event,cnt)\n",
    "\n",
    "#    assert( False )\n",
    "\n",
    "\n",
    "#    print \"Event \",cnt"
   ]
  },
  {
   "cell_type": "code",
   "execution_count": null,
   "metadata": {
    "collapsed": true
   },
   "outputs": [],
   "source": []
  },
  {
   "cell_type": "code",
   "execution_count": null,
   "metadata": {
    "collapsed": true
   },
   "outputs": [],
   "source": []
  },
  {
   "cell_type": "code",
   "execution_count": null,
   "metadata": {
    "collapsed": true
   },
   "outputs": [],
   "source": []
  },
  {
   "cell_type": "code",
   "execution_count": null,
   "metadata": {
    "collapsed": true
   },
   "outputs": [],
   "source": []
  }
 ],
 "metadata": {
  "kernelspec": {
   "display_name": "Python 2",
   "language": "python",
   "name": "python2"
  },
  "language_info": {
   "codemirror_mode": {
    "name": "ipython",
    "version": 2
   },
   "file_extension": ".py",
   "mimetype": "text/x-python",
   "name": "python",
   "nbconvert_exporter": "python",
   "pygments_lexer": "ipython2",
   "version": "2.7.12"
  }
 },
 "nbformat": 4,
 "nbformat_minor": 2
}

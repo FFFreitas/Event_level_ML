{
 "cells": [
  {
   "cell_type": "markdown",
   "metadata": {},
   "source": [
    "# Load the packages I need, including my function_util."
   ]
  },
  {
   "cell_type": "code",
   "execution_count": 1,
   "metadata": {
    "collapsed": true
   },
   "outputs": [],
   "source": [
    "from __future__ import division\n",
    "import ROOT\n",
    "import numpy as np\n",
    "from matplotlib import pyplot as plt\n",
    "import matplotlib as mpl\n",
    "from matplotlib.patches import Circle, Wedge, RegularPolygon\n",
    "from matplotlib.collections import PatchCollection\n",
    "\n",
    "from AnalysisEvent import AnalysisEvent\n",
    "\n",
    "from function_util import DetectorImage"
   ]
  },
  {
   "cell_type": "markdown",
   "metadata": {},
   "source": [
    "# Load the Libdelphes package."
   ]
  },
  {
   "cell_type": "code",
   "execution_count": 2,
   "metadata": {},
   "outputs": [
    {
     "data": {
      "text/plain": [
       "0"
      ]
     },
     "execution_count": 2,
     "metadata": {},
     "output_type": "execute_result"
    }
   ],
   "source": [
    "ROOT.gSystem.Load(\"/home/felipe/MG5_aMC_v2_5_5/Delphes/libDelphes\")"
   ]
  },
  {
   "cell_type": "markdown",
   "metadata": {},
   "source": [
    "# Load the events we want to analyse:"
   ]
  },
  {
   "cell_type": "code",
   "execution_count": 3,
   "metadata": {},
   "outputs": [
    {
     "name": "stderr",
     "output_type": "stream",
     "text": [
      "TClass::TClass:0: RuntimeWarning: no dictionary for class ROOT::TIOFeatures is available\n"
     ]
    }
   ],
   "source": [
    "events = AnalysisEvent(\"pp_ttbar_CMS_goodbtag.root\")"
   ]
  },
  {
   "cell_type": "markdown",
   "metadata": {},
   "source": [
    "# Add the colections of objects (electrons, muons, ...)"
   ]
  },
  {
   "cell_type": "code",
   "execution_count": 4,
   "metadata": {
    "collapsed": true
   },
   "outputs": [],
   "source": [
    "events.addCollection(\"jets\",\"Jet\")\n",
    "events.addCollection(\"genjets\",\"GenJet\")\n",
    "events.addCollection(\"electrons\",\"Electron\")\n",
    "events.addCollection(\"muons\",\"Muon\")\n",
    "events.addCollection(\"particles\",\"Particle\")\n",
    "events.addCollection(\"towers\",\"Tower\")\n",
    "events.addCollection(\"tracks\",\"Track\")\n",
    "events.addCollection(\"eflowtracks\",\"EFlowTrack\")\n",
    "events.addCollection(\"eflowphotons\",\"EFlowPhoton\")\n",
    "events.addCollection(\"eflowneutralhads\",\"EFlowNeutralHadron\")"
   ]
  },
  {
   "cell_type": "markdown",
   "metadata": {},
   "source": [
    "# Loop through all the events and plot the abstract images we will use:"
   ]
  },
  {
   "cell_type": "code",
   "execution_count": 6,
   "metadata": {},
   "outputs": [
    {
     "name": "stdout",
     "output_type": "stream",
     "text": [
      "Processing event  0\n"
     ]
    }
   ],
   "source": [
    "'''Individual polygons plots:'''\n",
    "cnt = 0\n",
    "for event in events:\n",
    "    if (cnt==4):\n",
    "        break\n",
    "\n",
    "    if (cnt%100==0):\n",
    "        print \"Processing event \",cnt\n",
    "    \n",
    "    dimage = DetectorImage()\n",
    "    dimage =  dimage.get_image_from_event_ind(event,cnt,224,224,224,fc='w',tpy='bg')\n",
    "    cnt +=1    \n"
   ]
  },
  {
   "cell_type": "code",
   "execution_count": 8,
   "metadata": {},
   "outputs": [
    {
     "name": "stdout",
     "output_type": "stream",
     "text": [
      "Processing event  0\n"
     ]
    }
   ],
   "source": [
    "'''Conventional plots'''\n",
    "cnt = 0\n",
    "for event in events:    \n",
    "    if (cnt==4):\n",
    "        break\n",
    "\n",
    "    if (cnt%100==0):\n",
    "        print \"Processing event \",cnt\n",
    "    \n",
    "    dimage = DetectorImage()\n",
    "    \n",
    "    dimage =  dimage.get_image_from_event(event,cnt,224,224,224,fc='k',tpy='bg')\n",
    "    \n",
    "    cnt +=1\n"
   ]
  },
  {
   "cell_type": "code",
   "execution_count": null,
   "metadata": {
    "collapsed": true
   },
   "outputs": [],
   "source": []
  }
 ],
 "metadata": {
  "kernelspec": {
   "display_name": "Python 2",
   "language": "python",
   "name": "python2"
  },
  "language_info": {
   "codemirror_mode": {
    "name": "ipython",
    "version": 2
   },
   "file_extension": ".py",
   "mimetype": "text/x-python",
   "name": "python",
   "nbconvert_exporter": "python",
   "pygments_lexer": "ipython2",
   "version": "2.7.12"
  }
 },
 "nbformat": 4,
 "nbformat_minor": 2
}
